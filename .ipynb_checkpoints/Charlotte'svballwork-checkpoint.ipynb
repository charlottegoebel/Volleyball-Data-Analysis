{
 "cells": [
  {
   "cell_type": "code",
   "execution_count": 1,
   "id": "de0d057d-7b2f-45b2-8d6e-b5299b9e02fb",
   "metadata": {},
   "outputs": [],
   "source": [
    "import pandas as pd\n",
    "import matplotlib as plt\n",
    "import numpy as np"
   ]
  },
  {
   "cell_type": "code",
   "execution_count": 2,
   "id": "f5bf81a8-09bd-4f44-8d58-37ced22c96de",
   "metadata": {},
   "outputs": [],
   "source": [
    "digging_stat = pd.read_csv(\"MaxPrepsVballData-Digging.csv\")"
   ]
  },
  {
   "cell_type": "code",
   "execution_count": 3,
   "id": "a3bd871e-2b6e-4e30-a4d5-6ead98d4908f",
   "metadata": {},
   "outputs": [
    {
     "data": {
      "text/html": [
       "<div>\n",
       "<style scoped>\n",
       "    .dataframe tbody tr th:only-of-type {\n",
       "        vertical-align: middle;\n",
       "    }\n",
       "\n",
       "    .dataframe tbody tr th {\n",
       "        vertical-align: top;\n",
       "    }\n",
       "\n",
       "    .dataframe thead th {\n",
       "        text-align: right;\n",
       "    }\n",
       "</style>\n",
       "<table border=\"1\" class=\"dataframe\">\n",
       "  <thead>\n",
       "    <tr style=\"text-align: right;\">\n",
       "      <th></th>\n",
       "      <th>Name</th>\n",
       "      <th>D</th>\n",
       "      <th>DE</th>\n",
       "    </tr>\n",
       "  </thead>\n",
       "  <tbody>\n",
       "    <tr>\n",
       "      <th>0</th>\n",
       "      <td>S. Arun(Jr)</td>\n",
       "      <td>333</td>\n",
       "      <td>75</td>\n",
       "    </tr>\n",
       "    <tr>\n",
       "      <th>1</th>\n",
       "      <td>J. Layno(Jr)</td>\n",
       "      <td>191</td>\n",
       "      <td>52</td>\n",
       "    </tr>\n",
       "    <tr>\n",
       "      <th>2</th>\n",
       "      <td>M. Sanford(Jr)</td>\n",
       "      <td>33</td>\n",
       "      <td>17</td>\n",
       "    </tr>\n",
       "    <tr>\n",
       "      <th>3</th>\n",
       "      <td>C. Collier(Sr)</td>\n",
       "      <td>75</td>\n",
       "      <td>28</td>\n",
       "    </tr>\n",
       "    <tr>\n",
       "      <th>4</th>\n",
       "      <td>T. Ulak(Jr)</td>\n",
       "      <td>180</td>\n",
       "      <td>42</td>\n",
       "    </tr>\n",
       "    <tr>\n",
       "      <th>5</th>\n",
       "      <td>A. Okonkwo(Sr)</td>\n",
       "      <td>18</td>\n",
       "      <td>3</td>\n",
       "    </tr>\n",
       "    <tr>\n",
       "      <th>6</th>\n",
       "      <td>M. Donlon(Sr)</td>\n",
       "      <td>119</td>\n",
       "      <td>32</td>\n",
       "    </tr>\n",
       "    <tr>\n",
       "      <th>7</th>\n",
       "      <td>T. Ellis(Jr)</td>\n",
       "      <td>1</td>\n",
       "      <td>2</td>\n",
       "    </tr>\n",
       "    <tr>\n",
       "      <th>8</th>\n",
       "      <td>R. Wilkins(Sr)</td>\n",
       "      <td>314</td>\n",
       "      <td>93</td>\n",
       "    </tr>\n",
       "    <tr>\n",
       "      <th>9</th>\n",
       "      <td>C. Todd(Jr)</td>\n",
       "      <td>2</td>\n",
       "      <td>1</td>\n",
       "    </tr>\n",
       "    <tr>\n",
       "      <th>10</th>\n",
       "      <td>H. Woods(Jr)</td>\n",
       "      <td>137</td>\n",
       "      <td>39</td>\n",
       "    </tr>\n",
       "  </tbody>\n",
       "</table>\n",
       "</div>"
      ],
      "text/plain": [
       "              Name    D  DE\n",
       "0      S. Arun(Jr)  333  75\n",
       "1     J. Layno(Jr)  191  52\n",
       "2   M. Sanford(Jr)   33  17\n",
       "3   C. Collier(Sr)   75  28\n",
       "4      T. Ulak(Jr)  180  42\n",
       "5   A. Okonkwo(Sr)   18   3\n",
       "6    M. Donlon(Sr)  119  32\n",
       "7     T. Ellis(Jr)    1   2\n",
       "8   R. Wilkins(Sr)  314  93\n",
       "9      C. Todd(Jr)    2   1\n",
       "10    H. Woods(Jr)  137  39"
      ]
     },
     "execution_count": 3,
     "metadata": {},
     "output_type": "execute_result"
    }
   ],
   "source": [
    "digging_edited = digging_stat[[\"Name\", \"D\", \"DE\"]]\n",
    "digging_edited"
   ]
  },
  {
   "cell_type": "code",
   "execution_count": 4,
   "id": "d285f410-8550-4993-ab6b-af10f3fb5a7d",
   "metadata": {},
   "outputs": [
    {
     "data": {
      "text/plain": [
       "0     81.617647\n",
       "1     78.600823\n",
       "2     66.000000\n",
       "3     72.815534\n",
       "4     81.081081\n",
       "5     85.714286\n",
       "6     78.807947\n",
       "7     33.333333\n",
       "8     77.149877\n",
       "9     66.666667\n",
       "10    77.840909\n",
       "dtype: float64"
      ]
     },
     "execution_count": 4,
     "metadata": {},
     "output_type": "execute_result"
    }
   ],
   "source": [
    "total_digs = digging_edited[\"D\"] + digging_edited[\"DE\"]\n",
    "dig_percentage = (digging_edited[\"D\"] / total_digs) * 100\n",
    "dig_percentage"
   ]
  },
  {
   "cell_type": "markdown",
   "id": "56942f5a-a79a-42dd-b80b-d38808b1c54d",
   "metadata": {},
   "source": [
    "$$Digging Acronym Key:$$\n",
    "    **SP**= total sets played; \n",
    "    **D**= total Digs per season,; \n",
    "    **DE**= total Digging errors of season; \n",
    "    **D/S** = avg digs per set;\n",
    "    **D/M**= avg digs per match;"
   ]
  },
  {
   "cell_type": "code",
   "execution_count": 5,
   "id": "1d1d58f2-242b-4f47-a13f-1b8da27e35b2",
   "metadata": {},
   "outputs": [],
   "source": [
    "ball_handling_stat = pd.read_csv(\"MaxPrepsVballData-BallHandling.csv\")"
   ]
  },
  {
   "cell_type": "code",
   "execution_count": 6,
   "id": "31f9bed3-da52-41cc-bd94-89c9a1151a89",
   "metadata": {},
   "outputs": [
    {
     "data": {
      "text/html": [
       "<div>\n",
       "<style scoped>\n",
       "    .dataframe tbody tr th:only-of-type {\n",
       "        vertical-align: middle;\n",
       "    }\n",
       "\n",
       "    .dataframe tbody tr th {\n",
       "        vertical-align: top;\n",
       "    }\n",
       "\n",
       "    .dataframe thead th {\n",
       "        text-align: right;\n",
       "    }\n",
       "</style>\n",
       "<table border=\"1\" class=\"dataframe\">\n",
       "  <thead>\n",
       "    <tr style=\"text-align: right;\">\n",
       "      <th></th>\n",
       "      <th>Name</th>\n",
       "      <th>BHA</th>\n",
       "      <th>BHE</th>\n",
       "    </tr>\n",
       "  </thead>\n",
       "  <tbody>\n",
       "    <tr>\n",
       "      <th>0</th>\n",
       "      <td>S. Arun(Jr)</td>\n",
       "      <td>7</td>\n",
       "      <td>1</td>\n",
       "    </tr>\n",
       "    <tr>\n",
       "      <th>1</th>\n",
       "      <td>J. Layno(Jr)</td>\n",
       "      <td>1533</td>\n",
       "      <td>33</td>\n",
       "    </tr>\n",
       "    <tr>\n",
       "      <th>2</th>\n",
       "      <td>C. Collier(Sr)</td>\n",
       "      <td>3</td>\n",
       "      <td>0</td>\n",
       "    </tr>\n",
       "    <tr>\n",
       "      <th>3</th>\n",
       "      <td>T. Ulak(Jr)</td>\n",
       "      <td>4</td>\n",
       "      <td>1</td>\n",
       "    </tr>\n",
       "    <tr>\n",
       "      <th>4</th>\n",
       "      <td>A. Okonkwo(Sr)</td>\n",
       "      <td>4</td>\n",
       "      <td>2</td>\n",
       "    </tr>\n",
       "    <tr>\n",
       "      <th>5</th>\n",
       "      <td>M. Donlon(Sr)</td>\n",
       "      <td>2</td>\n",
       "      <td>2</td>\n",
       "    </tr>\n",
       "    <tr>\n",
       "      <th>6</th>\n",
       "      <td>T. Ellis(Jr)</td>\n",
       "      <td>1</td>\n",
       "      <td>1</td>\n",
       "    </tr>\n",
       "    <tr>\n",
       "      <th>7</th>\n",
       "      <td>R. Wilkins(Sr)</td>\n",
       "      <td>14</td>\n",
       "      <td>1</td>\n",
       "    </tr>\n",
       "    <tr>\n",
       "      <th>8</th>\n",
       "      <td>H. Woods(Jr)</td>\n",
       "      <td>880</td>\n",
       "      <td>18</td>\n",
       "    </tr>\n",
       "  </tbody>\n",
       "</table>\n",
       "</div>"
      ],
      "text/plain": [
       "             Name   BHA  BHE\n",
       "0     S. Arun(Jr)     7    1\n",
       "1    J. Layno(Jr)  1533   33\n",
       "2  C. Collier(Sr)     3    0\n",
       "3     T. Ulak(Jr)     4    1\n",
       "4  A. Okonkwo(Sr)     4    2\n",
       "5   M. Donlon(Sr)     2    2\n",
       "6    T. Ellis(Jr)     1    1\n",
       "7  R. Wilkins(Sr)    14    1\n",
       "8    H. Woods(Jr)   880   18"
      ]
     },
     "execution_count": 6,
     "metadata": {},
     "output_type": "execute_result"
    }
   ],
   "source": [
    "ball_handling_edited = ball_handling_stat[[\"Name\", \"BHA\", \"BHE\"]]\n",
    "ball_handling_edited"
   ]
  },
  {
   "cell_type": "code",
   "execution_count": 7,
   "id": "1aa3a8da-cad8-4bb1-b0a9-fe1e21566f8f",
   "metadata": {},
   "outputs": [
    {
     "data": {
      "text/plain": [
       "0     85.714286\n",
       "1     97.847358\n",
       "2    100.000000\n",
       "3     75.000000\n",
       "4     50.000000\n",
       "5      0.000000\n",
       "6      0.000000\n",
       "7     92.857143\n",
       "8     97.954545\n",
       "dtype: float64"
      ]
     },
     "execution_count": 7,
     "metadata": {},
     "output_type": "execute_result"
    }
   ],
   "source": [
    "successful_ball_handles = ball_handling_edited[\"BHA\"] - ball_handling_edited[\"BHE\"]\n",
    "ball_handling_percentage = (successful_ball_handles / ball_handling_edited[\"BHA\"]) * 100\n",
    "ball_handling_percentage"
   ]
  },
  {
   "cell_type": "markdown",
   "id": "34228e01-26d5-45ce-b4f9-2efb07921e92",
   "metadata": {},
   "source": [
    "$$Ball Handling Acronym Key$$\n",
    "**SP**= total sets played;\n",
    "**Ast** = total assists;\n",
    "**Ast/S** = avg assists per set;\n",
    "**BHA** = total ball handling attempts\n",
    "**BHE** = total ball handling errors"
   ]
  },
  {
   "cell_type": "code",
   "execution_count": 8,
   "id": "aaf92d3a-f990-426d-8243-9f412c90ce0c",
   "metadata": {},
   "outputs": [],
   "source": [
    "service_receiving = pd.read_csv(\"MaxPrepsVballData-ServiceReceiving.csv\")"
   ]
  },
  {
   "cell_type": "code",
   "execution_count": 9,
   "id": "93ef6e7d-f844-431d-9cf8-dbef4e0ce752",
   "metadata": {},
   "outputs": [
    {
     "data": {
      "text/html": [
       "<div>\n",
       "<style scoped>\n",
       "    .dataframe tbody tr th:only-of-type {\n",
       "        vertical-align: middle;\n",
       "    }\n",
       "\n",
       "    .dataframe tbody tr th {\n",
       "        vertical-align: top;\n",
       "    }\n",
       "\n",
       "    .dataframe thead th {\n",
       "        text-align: right;\n",
       "    }\n",
       "</style>\n",
       "<table border=\"1\" class=\"dataframe\">\n",
       "  <thead>\n",
       "    <tr style=\"text-align: right;\">\n",
       "      <th></th>\n",
       "      <th>Name</th>\n",
       "      <th>R</th>\n",
       "      <th>RE</th>\n",
       "    </tr>\n",
       "  </thead>\n",
       "  <tbody>\n",
       "    <tr>\n",
       "      <th>0</th>\n",
       "      <td>S. Arun(Jr)</td>\n",
       "      <td>246</td>\n",
       "      <td>26</td>\n",
       "    </tr>\n",
       "    <tr>\n",
       "      <th>1</th>\n",
       "      <td>M. Sanford(Jr)</td>\n",
       "      <td>7</td>\n",
       "      <td>0</td>\n",
       "    </tr>\n",
       "    <tr>\n",
       "      <th>2</th>\n",
       "      <td>C. Collier(Sr)</td>\n",
       "      <td>100</td>\n",
       "      <td>22</td>\n",
       "    </tr>\n",
       "    <tr>\n",
       "      <th>3</th>\n",
       "      <td>T. Ulak(Jr)</td>\n",
       "      <td>206</td>\n",
       "      <td>43</td>\n",
       "    </tr>\n",
       "    <tr>\n",
       "      <th>4</th>\n",
       "      <td>A. Okonkwo(Sr)</td>\n",
       "      <td>6</td>\n",
       "      <td>1</td>\n",
       "    </tr>\n",
       "    <tr>\n",
       "      <th>5</th>\n",
       "      <td>M. Donlon(Sr)</td>\n",
       "      <td>115</td>\n",
       "      <td>22</td>\n",
       "    </tr>\n",
       "    <tr>\n",
       "      <th>6</th>\n",
       "      <td>T. Ellis(Jr)</td>\n",
       "      <td>3</td>\n",
       "      <td>1</td>\n",
       "    </tr>\n",
       "    <tr>\n",
       "      <th>7</th>\n",
       "      <td>R. Wilkins(Sr)</td>\n",
       "      <td>299</td>\n",
       "      <td>42</td>\n",
       "    </tr>\n",
       "    <tr>\n",
       "      <th>8</th>\n",
       "      <td>H. Woods(Jr)</td>\n",
       "      <td>92</td>\n",
       "      <td>8</td>\n",
       "    </tr>\n",
       "  </tbody>\n",
       "</table>\n",
       "</div>"
      ],
      "text/plain": [
       "             Name    R  RE\n",
       "0     S. Arun(Jr)  246  26\n",
       "1  M. Sanford(Jr)    7   0\n",
       "2  C. Collier(Sr)  100  22\n",
       "3     T. Ulak(Jr)  206  43\n",
       "4  A. Okonkwo(Sr)    6   1\n",
       "5   M. Donlon(Sr)  115  22\n",
       "6    T. Ellis(Jr)    3   1\n",
       "7  R. Wilkins(Sr)  299  42\n",
       "8    H. Woods(Jr)   92   8"
      ]
     },
     "execution_count": 9,
     "metadata": {},
     "output_type": "execute_result"
    }
   ],
   "source": [
    "service_receiving_edited = service_receiving[[\"Name\", \"R\", \"RE\"]]\n",
    "service_receiving_edited"
   ]
  },
  {
   "cell_type": "code",
   "execution_count": 10,
   "id": "81e4957a-0fa3-4a16-b13b-fd19d07663a1",
   "metadata": {},
   "outputs": [
    {
     "data": {
      "text/plain": [
       "0     90.441176\n",
       "1    100.000000\n",
       "2     81.967213\n",
       "3     82.730924\n",
       "4     85.714286\n",
       "5     83.941606\n",
       "6     75.000000\n",
       "7     87.683284\n",
       "8     92.000000\n",
       "dtype: float64"
      ]
     },
     "execution_count": 10,
     "metadata": {},
     "output_type": "execute_result"
    }
   ],
   "source": [
    "total_service_receiving = service_receiving_edited[\"R\"] + service_receiving_edited[\"RE\"]\n",
    "service_receiving_percentage = ((service_receiving_edited[\"R\"] / total_service_receiving) * 100)\n",
    "service_receiving_percentage"
   ]
  },
  {
   "cell_type": "code",
   "execution_count": 11,
   "id": "e1e033e7-fd02-4c8a-aca1-dcdf07aaff8d",
   "metadata": {},
   "outputs": [
    {
     "data": {
      "text/plain": [
       "90.44117647058823"
      ]
     },
     "execution_count": 11,
     "metadata": {},
     "output_type": "execute_result"
    }
   ],
   "source": [
    "service_receiving_percentage[0]"
   ]
  },
  {
   "cell_type": "markdown",
   "id": "ca64ce47-8e2c-422f-9527-dfe1b8d39f92",
   "metadata": {},
   "source": [
    "$$Service Receiving Acronym Notes$$\n",
    "    **SP** = total Sets played;\n",
    "    **R** = successful service reception;\n",
    "    **RE** = service reception error;\n",
    "    **R/S** = average receptions per set;\n",
    "    **R/M** = average receptions per match;"
   ]
  },
  {
   "cell_type": "markdown",
   "id": "d3f8787b-1b87-46cd-ada2-ea077d821c33",
   "metadata": {},
   "source": [
    "**PLOTTING GOAL**:\n",
    "gather everyones success percentages for each category;\n",
    "plot all of one person's percentages on a graph to show what they are best at;\n",
    "make a graph for each player"
   ]
  },
  {
   "cell_type": "code",
   "execution_count": 12,
   "id": "a3bcd73d-befc-4bd5-a3bc-a27f13e159c9",
   "metadata": {},
   "outputs": [
    {
     "data": {
      "image/png": "[encoded data removed]",
      "text/plain": [
       "<Figure size 200x200 with 1 Axes>"
      ]
     },
     "metadata": {},
     "output_type": "display_data"
    }
   ],
   "source": [
    "import matplotlib.pyplot as plt\n",
    "import numpy as np\n",
    "import matplotlib as mpl\n",
    "\n",
    "plt.style.use('_mpl-gallery')\n",
    "# make data\n",
    "x = 0.5 + np.arange(3)\n",
    "y = [dig_percentage[8], ball_handling_percentage[8], service_receiving_percentage[8]]\n",
    "#plot\n",
    "fig, ax = plt.subplots()\n",
    "ax.bar(x, y, width=1, edgecolor =\"white\", linewidth=0.7)\n",
    "ax.set(xlim=(0, 3), xticks=np.arange(0, 4),\n",
    "       ylim=(0, 100), yticks=np.arange(1,100))\n",
    "plt.show()"
   ]
  },
  {
   "cell_type": "code",
   "execution_count": null,
   "id": "4de699cd-5868-4a79-af20-bbfbea1d2ec8",
   "metadata": {},
   "outputs": [],
   "source": []
  }
 ],
 "metadata": {
  "kernelspec": {
   "display_name": "Python 3 (ipykernel)",
   "language": "python",
   "name": "python3"
  },
  "language_info": {
   "codemirror_mode": {
    "name": "ipython",
    "version": 3
   },
   "file_extension": ".py",
   "mimetype": "text/x-python",
   "name": "python",
   "nbconvert_exporter": "python",
   "pygments_lexer": "ipython3",
   "version": "3.12.1"
  }
 },
 "nbformat": 4,
 "nbformat_minor": 5
}

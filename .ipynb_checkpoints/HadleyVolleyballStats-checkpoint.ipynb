{
 "cells": [
  {
   "cell_type": "code",
   "execution_count": 2,
   "id": "6c8bb631-33a3-4ba7-9bce-2feb4f3a0602",
   "metadata": {},
   "outputs": [],
   "source": [
    "import pandas as pd\n",
    "import matplotlib.pyplot as plt\n",
    "import numpy as np"
   ]
  },
  {
   "cell_type": "markdown",
   "id": "3c4de2b1-87bd-44ac-9a96-4744d3eac61b",
   "metadata": {},
   "source": [
    "22 Games Total"
   ]
  },
  {
   "cell_type": "markdown",
   "id": "82903efc-6e28-4555-af71-abc6ac42ca5e",
   "metadata": {},
   "source": [
    "**Name:** Player Name\n",
    "**SP:** Sets Played\n",
    "**K:** Kills\n",
    "**K/S:** Average Number of Kills Per Set\n",
    "**Kill %:** Kill Percentage\n",
    "**Att:** Attack Attempts\n",
    "**E:** Attack Errors\n",
    "**Hit %:** Hitting Percentage"
   ]
  },
  {
   "cell_type": "code",
   "execution_count": 32,
   "id": "f08e7e2c-32d4-4f7a-b1da-6f85a9b63bab",
   "metadata": {},
   "outputs": [
    {
     "data": {
      "text/html": [
       "<div>\n",
       "<style scoped>\n",
       "    .dataframe tbody tr th:only-of-type {\n",
       "        vertical-align: middle;\n",
       "    }\n",
       "\n",
       "    .dataframe tbody tr th {\n",
       "        vertical-align: top;\n",
       "    }\n",
       "\n",
       "    .dataframe thead th {\n",
       "        text-align: right;\n",
       "    }\n",
       "</style>\n",
       "<table border=\"1\" class=\"dataframe\">\n",
       "  <thead>\n",
       "    <tr style=\"text-align: right;\">\n",
       "      <th></th>\n",
       "      <th>K</th>\n",
       "      <th>Att</th>\n",
       "      <th>E</th>\n",
       "    </tr>\n",
       "  </thead>\n",
       "  <tbody>\n",
       "    <tr>\n",
       "      <th>0</th>\n",
       "      <td>156</td>\n",
       "      <td>616</td>\n",
       "      <td>87</td>\n",
       "    </tr>\n",
       "    <tr>\n",
       "      <th>1</th>\n",
       "      <td>5</td>\n",
       "      <td>74</td>\n",
       "      <td>12</td>\n",
       "    </tr>\n",
       "    <tr>\n",
       "      <th>2</th>\n",
       "      <td>83</td>\n",
       "      <td>260</td>\n",
       "      <td>32</td>\n",
       "    </tr>\n",
       "    <tr>\n",
       "      <th>3</th>\n",
       "      <td>90</td>\n",
       "      <td>386</td>\n",
       "      <td>67</td>\n",
       "    </tr>\n",
       "    <tr>\n",
       "      <th>4</th>\n",
       "      <td>2</td>\n",
       "      <td>27</td>\n",
       "      <td>7</td>\n",
       "    </tr>\n",
       "    <tr>\n",
       "      <th>5</th>\n",
       "      <td>61</td>\n",
       "      <td>179</td>\n",
       "      <td>39</td>\n",
       "    </tr>\n",
       "    <tr>\n",
       "      <th>6</th>\n",
       "      <td>140</td>\n",
       "      <td>489</td>\n",
       "      <td>84</td>\n",
       "    </tr>\n",
       "    <tr>\n",
       "      <th>7</th>\n",
       "      <td>2</td>\n",
       "      <td>14</td>\n",
       "      <td>3</td>\n",
       "    </tr>\n",
       "    <tr>\n",
       "      <th>8</th>\n",
       "      <td>6</td>\n",
       "      <td>45</td>\n",
       "      <td>6</td>\n",
       "    </tr>\n",
       "    <tr>\n",
       "      <th>9</th>\n",
       "      <td>2</td>\n",
       "      <td>7</td>\n",
       "      <td>1</td>\n",
       "    </tr>\n",
       "    <tr>\n",
       "      <th>10</th>\n",
       "      <td>128</td>\n",
       "      <td>443</td>\n",
       "      <td>58</td>\n",
       "    </tr>\n",
       "  </tbody>\n",
       "</table>\n",
       "</div>"
      ],
      "text/plain": [
       "      K  Att   E\n",
       "0   156  616  87\n",
       "1     5   74  12\n",
       "2    83  260  32\n",
       "3    90  386  67\n",
       "4     2   27   7\n",
       "5    61  179  39\n",
       "6   140  489  84\n",
       "7     2   14   3\n",
       "8     6   45   6\n",
       "9     2    7   1\n",
       "10  128  443  58"
      ]
     },
     "execution_count": 32,
     "metadata": {},
     "output_type": "execute_result"
    }
   ],
   "source": [
    "attacking_full = pd.read_csv(\"Attacking - Sheet1.csv\")\n",
    "attacking = attacking_full[[\"K\", \"Att\", \"E\"]]\n",
    "attacking"
   ]
  },
  {
   "cell_type": "code",
   "execution_count": 13,
   "id": "b56fa080-8aa5-46b5-8c43-f4c433df4830",
   "metadata": {},
   "outputs": [
    {
     "data": {
      "text/plain": [
       "0     11.201299\n",
       "1     -9.459459\n",
       "2     19.615385\n",
       "3      5.958549\n",
       "4    -18.518519\n",
       "5     12.290503\n",
       "6     11.451943\n",
       "7     -7.142857\n",
       "8      0.000000\n",
       "9     14.285714\n",
       "10    15.801354\n",
       "dtype: float64"
      ]
     },
     "execution_count": 13,
     "metadata": {},
     "output_type": "execute_result"
    }
   ],
   "source": [
    "success = (attacking[\"K\"] - attacking[\"E\"])\n",
    "hitting_percentage = (successfull_hits/attacking[\"Att\"]*100)\n",
    "hitting_percentage"
   ]
  },
  {
   "cell_type": "markdown",
   "id": "493c4620-5fd4-4fe5-9300-a7f7a15d4863",
   "metadata": {},
   "source": [
    "**Name:** Player Name\n",
    "**SP:** Sets Played\n",
    "**A:** Aces\n",
    "**A/S:** Average Number of Aces Per Set\n",
    "**Ace %:** Ace Percentage - (Total Aces/Total SA)\n",
    "**SA:** Service Attempts\n",
    "**SE:** Service Errors\n",
    "**Serv %:** Serving Percentage - ((SA-SE)/SA)\n",
    "**PTS:** Rotation Points - (# of points scored while this person was serving)"
   ]
  },
  {
   "cell_type": "code",
   "execution_count": 31,
   "id": "1363c810-dfec-42c5-ad16-ff6984b8f500",
   "metadata": {},
   "outputs": [
    {
     "data": {
      "text/html": [
       "<div>\n",
       "<style scoped>\n",
       "    .dataframe tbody tr th:only-of-type {\n",
       "        vertical-align: middle;\n",
       "    }\n",
       "\n",
       "    .dataframe tbody tr th {\n",
       "        vertical-align: top;\n",
       "    }\n",
       "\n",
       "    .dataframe thead th {\n",
       "        text-align: right;\n",
       "    }\n",
       "</style>\n",
       "<table border=\"1\" class=\"dataframe\">\n",
       "  <thead>\n",
       "    <tr style=\"text-align: right;\">\n",
       "      <th></th>\n",
       "      <th>SA</th>\n",
       "      <th>A</th>\n",
       "      <th>SE</th>\n",
       "    </tr>\n",
       "  </thead>\n",
       "  <tbody>\n",
       "    <tr>\n",
       "      <th>0</th>\n",
       "      <td>332</td>\n",
       "      <td>54</td>\n",
       "      <td>31</td>\n",
       "    </tr>\n",
       "    <tr>\n",
       "      <th>1</th>\n",
       "      <td>291</td>\n",
       "      <td>49</td>\n",
       "      <td>16</td>\n",
       "    </tr>\n",
       "    <tr>\n",
       "      <th>2</th>\n",
       "      <td>191</td>\n",
       "      <td>16</td>\n",
       "      <td>15</td>\n",
       "    </tr>\n",
       "    <tr>\n",
       "      <th>3</th>\n",
       "      <td>47</td>\n",
       "      <td>5</td>\n",
       "      <td>9</td>\n",
       "    </tr>\n",
       "    <tr>\n",
       "      <th>4</th>\n",
       "      <td>222</td>\n",
       "      <td>47</td>\n",
       "      <td>30</td>\n",
       "    </tr>\n",
       "    <tr>\n",
       "      <th>5</th>\n",
       "      <td>33</td>\n",
       "      <td>3</td>\n",
       "      <td>5</td>\n",
       "    </tr>\n",
       "    <tr>\n",
       "      <th>6</th>\n",
       "      <td>273</td>\n",
       "      <td>27</td>\n",
       "      <td>9</td>\n",
       "    </tr>\n",
       "    <tr>\n",
       "      <th>7</th>\n",
       "      <td>223</td>\n",
       "      <td>43</td>\n",
       "      <td>38</td>\n",
       "    </tr>\n",
       "  </tbody>\n",
       "</table>\n",
       "</div>"
      ],
      "text/plain": [
       "    SA   A  SE\n",
       "0  332  54  31\n",
       "1  291  49  16\n",
       "2  191  16  15\n",
       "3   47   5   9\n",
       "4  222  47  30\n",
       "5   33   3   5\n",
       "6  273  27   9\n",
       "7  223  43  38"
      ]
     },
     "execution_count": 31,
     "metadata": {},
     "output_type": "execute_result"
    }
   ],
   "source": [
    "serving_full = pd.read_csv(\"Serving - Sheet1.csv\")\n",
    "serving = serving_full[[\"SA\", \"A\", \"SE\"]]\n",
    "serving"
   ]
  },
  {
   "cell_type": "code",
   "execution_count": 30,
   "id": "9654ba1e-ceab-41f7-84d8-2487dd4fb2b7",
   "metadata": {},
   "outputs": [
    {
     "data": {
      "text/plain": [
       "0    90.662651\n",
       "1    94.501718\n",
       "2    92.146597\n",
       "3    80.851064\n",
       "4    86.486486\n",
       "5    84.848485\n",
       "6    96.703297\n",
       "7    82.959641\n",
       "dtype: float64"
      ]
     },
     "execution_count": 30,
     "metadata": {},
     "output_type": "execute_result"
    }
   ],
   "source": [
    "success2 = (serving[\"SA\"] - serving[\"SE\"])\n",
    "serving_percentage = (success2/serving[\"SA\"]*100)\n",
    "serving_percentage"
   ]
  },
  {
   "cell_type": "markdown",
   "id": "1bb51757-9897-4c66-a171-247979505290",
   "metadata": {},
   "source": [
    "**Name:** Player Name\n",
    "**SP:** Sets Played\n",
    "**BS:** Total Blocks By Player Solo\n",
    "**BA:** Total Blocks By Player Assisted\n",
    "**Tot Blks:** Total Blocks By Player Solo & Assisted\n",
    "**B/S:** Average Number of Blocks Per Set\n",
    "**B/M:** Average Number of Blocks Per Match\n",
    "**BE:** Blocking Errors"
   ]
  },
  {
   "cell_type": "code",
   "execution_count": 36,
   "id": "0707c371-f900-4a59-84b8-36b8c6e0e2e8",
   "metadata": {},
   "outputs": [
    {
     "data": {
      "text/html": [
       "<div>\n",
       "<style scoped>\n",
       "    .dataframe tbody tr th:only-of-type {\n",
       "        vertical-align: middle;\n",
       "    }\n",
       "\n",
       "    .dataframe tbody tr th {\n",
       "        vertical-align: top;\n",
       "    }\n",
       "\n",
       "    .dataframe thead th {\n",
       "        text-align: right;\n",
       "    }\n",
       "</style>\n",
       "<table border=\"1\" class=\"dataframe\">\n",
       "  <thead>\n",
       "    <tr style=\"text-align: right;\">\n",
       "      <th></th>\n",
       "      <th>BS</th>\n",
       "      <th>BA</th>\n",
       "      <th>Tot Blks</th>\n",
       "      <th>BE</th>\n",
       "    </tr>\n",
       "  </thead>\n",
       "  <tbody>\n",
       "    <tr>\n",
       "      <th>0</th>\n",
       "      <td>1</td>\n",
       "      <td>3</td>\n",
       "      <td>4</td>\n",
       "      <td>2</td>\n",
       "    </tr>\n",
       "    <tr>\n",
       "      <th>1</th>\n",
       "      <td>15</td>\n",
       "      <td>15</td>\n",
       "      <td>30</td>\n",
       "      <td>9</td>\n",
       "    </tr>\n",
       "    <tr>\n",
       "      <th>2</th>\n",
       "      <td>3</td>\n",
       "      <td>5</td>\n",
       "      <td>8</td>\n",
       "      <td>4</td>\n",
       "    </tr>\n",
       "    <tr>\n",
       "      <th>3</th>\n",
       "      <td>18</td>\n",
       "      <td>13</td>\n",
       "      <td>31</td>\n",
       "      <td>20</td>\n",
       "    </tr>\n",
       "    <tr>\n",
       "      <th>4</th>\n",
       "      <td>0</td>\n",
       "      <td>4</td>\n",
       "      <td>4</td>\n",
       "      <td>6</td>\n",
       "    </tr>\n",
       "    <tr>\n",
       "      <th>5</th>\n",
       "      <td>0</td>\n",
       "      <td>1</td>\n",
       "      <td>1</td>\n",
       "      <td>0</td>\n",
       "    </tr>\n",
       "    <tr>\n",
       "      <th>6</th>\n",
       "      <td>16</td>\n",
       "      <td>15</td>\n",
       "      <td>31</td>\n",
       "      <td>13</td>\n",
       "    </tr>\n",
       "  </tbody>\n",
       "</table>\n",
       "</div>"
      ],
      "text/plain": [
       "   BS  BA  Tot Blks  BE\n",
       "0   1   3         4   2\n",
       "1  15  15        30   9\n",
       "2   3   5         8   4\n",
       "3  18  13        31  20\n",
       "4   0   4         4   6\n",
       "5   0   1         1   0\n",
       "6  16  15        31  13"
      ]
     },
     "execution_count": 36,
     "metadata": {},
     "output_type": "execute_result"
    }
   ],
   "source": [
    "blocking_full = pd.read_csv(\"Blocking - Sheet1.csv\")\n",
    "blocking = blocking_full[[\"BS\", \"BA\", \"Tot Blks\", \"BE\"]]\n",
    "blocking"
   ]
  },
  {
   "cell_type": "code",
   "execution_count": 37,
   "id": "853f9bb0-a61d-4f69-a6b1-98a4157764cd",
   "metadata": {},
   "outputs": [
    {
     "data": {
      "text/plain": [
       "0    0.500000\n",
       "1    0.700000\n",
       "2    0.500000\n",
       "3    0.354839\n",
       "4   -0.500000\n",
       "5    1.000000\n",
       "6    0.580645\n",
       "dtype: float64"
      ]
     },
     "execution_count": 37,
     "metadata": {},
     "output_type": "execute_result"
    }
   ],
   "source": [
    "success3 = (blocking[\"Tot Blks\"]-blocking[\"BE\"])\n",
    "blocking_percentage = (success3/blocking[\"Tot Blks\"])\n",
    "blocking_percentage"
   ]
  },
  {
   "cell_type": "code",
   "execution_count": null,
   "id": "16a61cfb-4096-4d39-91e8-dc5141831278",
   "metadata": {},
   "outputs": [],
   "source": []
  }
 ],
 "metadata": {
  "kernelspec": {
   "display_name": "Python 3 (ipykernel)",
   "language": "python",
   "name": "python3"
  },
  "language_info": {
   "codemirror_mode": {
    "name": "ipython",
    "version": 3
   },
   "file_extension": ".py",
   "mimetype": "text/x-python",
   "name": "python",
   "nbconvert_exporter": "python",
   "pygments_lexer": "ipython3",
   "version": "3.12.1"
  }
 },
 "nbformat": 4,
 "nbformat_minor": 5
}

{
 "cells": [
  {
   "cell_type": "code",
   "execution_count": 49,
   "id": "de0d057d-7b2f-45b2-8d6e-b5299b9e02fb",
   "metadata": {},
   "outputs": [],
   "source": [
    "import pandas as pd\n",
    "import matplotlib as plt\n",
    "import numpy as np"
   ]
  },
  {
   "cell_type": "code",
   "execution_count": 50,
   "id": "f5bf81a8-09bd-4f44-8d58-37ced22c96de",
   "metadata": {},
   "outputs": [],
   "source": [
    "digging_stat = pd.read_csv(\"MaxPrepsVballData-Digging.csv\")"
   ]
  },
  {
   "cell_type": "code",
   "execution_count": 51,
   "id": "a3bd871e-2b6e-4e30-a4d5-6ead98d4908f",
   "metadata": {},
   "outputs": [
    {
     "data": {
      "text/html": [
       "<div>\n",
       "<style scoped>\n",
       "    .dataframe tbody tr th:only-of-type {\n",
       "        vertical-align: middle;\n",
       "    }\n",
       "\n",
       "    .dataframe tbody tr th {\n",
       "        vertical-align: top;\n",
       "    }\n",
       "\n",
       "    .dataframe thead th {\n",
       "        text-align: right;\n",
       "    }\n",
       "</style>\n",
       "<table border=\"1\" class=\"dataframe\">\n",
       "  <thead>\n",
       "    <tr style=\"text-align: right;\">\n",
       "      <th></th>\n",
       "      <th>Name</th>\n",
       "      <th>D</th>\n",
       "      <th>DE</th>\n",
       "    </tr>\n",
       "  </thead>\n",
       "  <tbody>\n",
       "    <tr>\n",
       "      <th>0</th>\n",
       "      <td>S. Arun(Jr)</td>\n",
       "      <td>333</td>\n",
       "      <td>75</td>\n",
       "    </tr>\n",
       "    <tr>\n",
       "      <th>1</th>\n",
       "      <td>J. Layno(Jr)</td>\n",
       "      <td>191</td>\n",
       "      <td>52</td>\n",
       "    </tr>\n",
       "    <tr>\n",
       "      <th>2</th>\n",
       "      <td>M. Sanford(Jr)</td>\n",
       "      <td>33</td>\n",
       "      <td>17</td>\n",
       "    </tr>\n",
       "    <tr>\n",
       "      <th>3</th>\n",
       "      <td>C. Collier(Sr)</td>\n",
       "      <td>75</td>\n",
       "      <td>28</td>\n",
       "    </tr>\n",
       "    <tr>\n",
       "      <th>4</th>\n",
       "      <td>T. Ulak(Jr)</td>\n",
       "      <td>180</td>\n",
       "      <td>42</td>\n",
       "    </tr>\n",
       "    <tr>\n",
       "      <th>5</th>\n",
       "      <td>A. Okonkwo(Sr)</td>\n",
       "      <td>18</td>\n",
       "      <td>3</td>\n",
       "    </tr>\n",
       "    <tr>\n",
       "      <th>6</th>\n",
       "      <td>M. Donlon(Sr)</td>\n",
       "      <td>119</td>\n",
       "      <td>32</td>\n",
       "    </tr>\n",
       "    <tr>\n",
       "      <th>7</th>\n",
       "      <td>T. Ellis(Jr)</td>\n",
       "      <td>1</td>\n",
       "      <td>2</td>\n",
       "    </tr>\n",
       "    <tr>\n",
       "      <th>8</th>\n",
       "      <td>R. Wilkins(Sr)</td>\n",
       "      <td>314</td>\n",
       "      <td>93</td>\n",
       "    </tr>\n",
       "    <tr>\n",
       "      <th>9</th>\n",
       "      <td>C. Todd(Jr)</td>\n",
       "      <td>2</td>\n",
       "      <td>1</td>\n",
       "    </tr>\n",
       "    <tr>\n",
       "      <th>10</th>\n",
       "      <td>H. Woods(Jr)</td>\n",
       "      <td>137</td>\n",
       "      <td>39</td>\n",
       "    </tr>\n",
       "  </tbody>\n",
       "</table>\n",
       "</div>"
      ],
      "text/plain": [
       "              Name    D  DE\n",
       "0      S. Arun(Jr)  333  75\n",
       "1     J. Layno(Jr)  191  52\n",
       "2   M. Sanford(Jr)   33  17\n",
       "3   C. Collier(Sr)   75  28\n",
       "4      T. Ulak(Jr)  180  42\n",
       "5   A. Okonkwo(Sr)   18   3\n",
       "6    M. Donlon(Sr)  119  32\n",
       "7     T. Ellis(Jr)    1   2\n",
       "8   R. Wilkins(Sr)  314  93\n",
       "9      C. Todd(Jr)    2   1\n",
       "10    H. Woods(Jr)  137  39"
      ]
     },
     "execution_count": 51,
     "metadata": {},
     "output_type": "execute_result"
    }
   ],
   "source": [
    "digging_edited = digging_stat[[\"Name\", \"D\", \"DE\"]]\n",
    "digging_edited"
   ]
  },
  {
   "cell_type": "code",
   "execution_count": 52,
   "id": "d285f410-8550-4993-ab6b-af10f3fb5a7d",
   "metadata": {},
   "outputs": [
    {
     "data": {
      "text/plain": [
       "0     81.617647\n",
       "1     78.600823\n",
       "2     66.000000\n",
       "3     72.815534\n",
       "4     81.081081\n",
       "5     85.714286\n",
       "6     78.807947\n",
       "7     33.333333\n",
       "8     77.149877\n",
       "9     66.666667\n",
       "10    77.840909\n",
       "dtype: float64"
      ]
     },
     "execution_count": 52,
     "metadata": {},
     "output_type": "execute_result"
    }
   ],
   "source": [
    "total_digs = digging_edited[\"D\"] + digging_edited[\"DE\"]\n",
    "dig_percentage = (digging_edited[\"D\"] / total_digs) * 100\n",
    "dig_percentage"
   ]
  },
  {
   "cell_type": "markdown",
   "id": "56942f5a-a79a-42dd-b80b-d38808b1c54d",
   "metadata": {},
   "source": [
    "$$Digging Acronym Key:$$\n",
    "    **SP**= total sets played; \n",
    "    **D**= total Digs per season,; \n",
    "    **DE**= total Digging errors of season; \n",
    "    **D/S** = avg digs per set;\n",
    "    **D/M**= avg digs per match;"
   ]
  },
  {
   "cell_type": "code",
   "execution_count": 53,
   "id": "1d1d58f2-242b-4f47-a13f-1b8da27e35b2",
   "metadata": {},
   "outputs": [],
   "source": [
    "ball_handling_stat = pd.read_csv(\"MaxPrepsVballData-BallHandling.csv\")"
   ]
  },
  {
   "cell_type": "code",
   "execution_count": 54,
   "id": "31f9bed3-da52-41cc-bd94-89c9a1151a89",
   "metadata": {},
   "outputs": [
    {
     "data": {
      "text/html": [
       "<div>\n",
       "<style scoped>\n",
       "    .dataframe tbody tr th:only-of-type {\n",
       "        vertical-align: middle;\n",
       "    }\n",
       "\n",
       "    .dataframe tbody tr th {\n",
       "        vertical-align: top;\n",
       "    }\n",
       "\n",
       "    .dataframe thead th {\n",
       "        text-align: right;\n",
       "    }\n",
       "</style>\n",
       "<table border=\"1\" class=\"dataframe\">\n",
       "  <thead>\n",
       "    <tr style=\"text-align: right;\">\n",
       "      <th></th>\n",
       "      <th>Name</th>\n",
       "      <th>BHA</th>\n",
       "      <th>BHE</th>\n",
       "    </tr>\n",
       "  </thead>\n",
       "  <tbody>\n",
       "    <tr>\n",
       "      <th>0</th>\n",
       "      <td>S. Arun(Jr)</td>\n",
       "      <td>7</td>\n",
       "      <td>1</td>\n",
       "    </tr>\n",
       "    <tr>\n",
       "      <th>1</th>\n",
       "      <td>J. Layno(Jr)</td>\n",
       "      <td>1533</td>\n",
       "      <td>33</td>\n",
       "    </tr>\n",
       "    <tr>\n",
       "      <th>2</th>\n",
       "      <td>C. Collier(Sr)</td>\n",
       "      <td>3</td>\n",
       "      <td>0</td>\n",
       "    </tr>\n",
       "    <tr>\n",
       "      <th>3</th>\n",
       "      <td>T. Ulak(Jr)</td>\n",
       "      <td>4</td>\n",
       "      <td>1</td>\n",
       "    </tr>\n",
       "    <tr>\n",
       "      <th>4</th>\n",
       "      <td>A. Okonkwo(Sr)</td>\n",
       "      <td>4</td>\n",
       "      <td>2</td>\n",
       "    </tr>\n",
       "    <tr>\n",
       "      <th>5</th>\n",
       "      <td>M. Donlon(Sr)</td>\n",
       "      <td>2</td>\n",
       "      <td>2</td>\n",
       "    </tr>\n",
       "    <tr>\n",
       "      <th>6</th>\n",
       "      <td>T. Ellis(Jr)</td>\n",
       "      <td>1</td>\n",
       "      <td>1</td>\n",
       "    </tr>\n",
       "    <tr>\n",
       "      <th>7</th>\n",
       "      <td>R. Wilkins(Sr)</td>\n",
       "      <td>14</td>\n",
       "      <td>1</td>\n",
       "    </tr>\n",
       "    <tr>\n",
       "      <th>8</th>\n",
       "      <td>H. Woods(Jr)</td>\n",
       "      <td>880</td>\n",
       "      <td>18</td>\n",
       "    </tr>\n",
       "  </tbody>\n",
       "</table>\n",
       "</div>"
      ],
      "text/plain": [
       "             Name   BHA  BHE\n",
       "0     S. Arun(Jr)     7    1\n",
       "1    J. Layno(Jr)  1533   33\n",
       "2  C. Collier(Sr)     3    0\n",
       "3     T. Ulak(Jr)     4    1\n",
       "4  A. Okonkwo(Sr)     4    2\n",
       "5   M. Donlon(Sr)     2    2\n",
       "6    T. Ellis(Jr)     1    1\n",
       "7  R. Wilkins(Sr)    14    1\n",
       "8    H. Woods(Jr)   880   18"
      ]
     },
     "execution_count": 54,
     "metadata": {},
     "output_type": "execute_result"
    }
   ],
   "source": [
    "ball_handling_edited = ball_handling_stat[[\"Name\", \"BHA\", \"BHE\"]]\n",
    "ball_handling_edited"
   ]
  },
  {
   "cell_type": "code",
   "execution_count": 55,
   "id": "1aa3a8da-cad8-4bb1-b0a9-fe1e21566f8f",
   "metadata": {},
   "outputs": [
    {
     "data": {
      "text/plain": [
       "0     85.714286\n",
       "1     97.847358\n",
       "2    100.000000\n",
       "3     75.000000\n",
       "4     50.000000\n",
       "5      0.000000\n",
       "6      0.000000\n",
       "7     92.857143\n",
       "8     97.954545\n",
       "dtype: float64"
      ]
     },
     "execution_count": 55,
     "metadata": {},
     "output_type": "execute_result"
    }
   ],
   "source": [
    "successful_ball_handles = ball_handling_edited[\"BHA\"] - ball_handling_edited[\"BHE\"]\n",
    "ball_handling_percentage = (successful_ball_handles / ball_handling_edited[\"BHA\"]) * 100\n",
    "ball_handling_percentage"
   ]
  },
  {
   "cell_type": "markdown",
   "id": "34228e01-26d5-45ce-b4f9-2efb07921e92",
   "metadata": {},
   "source": [
    "$$Ball Handling Acronym Key$$\n",
    "**SP**= total sets played;\n",
    "**Ast** = total assists;\n",
    "**Ast/S** = avg assists per set;\n",
    "**BHA** = total ball handling attempts\n",
    "**BHE** = total ball handling errors"
   ]
  },
  {
   "cell_type": "code",
   "execution_count": 56,
   "id": "aaf92d3a-f990-426d-8243-9f412c90ce0c",
   "metadata": {},
   "outputs": [],
   "source": [
    "service_receiving = pd.read_csv(\"MaxPrepsVballData-ServiceReceiving.csv\")"
   ]
  },
  {
   "cell_type": "code",
   "execution_count": 57,
   "id": "93ef6e7d-f844-431d-9cf8-dbef4e0ce752",
   "metadata": {},
   "outputs": [
    {
     "data": {
      "text/html": [
       "<div>\n",
       "<style scoped>\n",
       "    .dataframe tbody tr th:only-of-type {\n",
       "        vertical-align: middle;\n",
       "    }\n",
       "\n",
       "    .dataframe tbody tr th {\n",
       "        vertical-align: top;\n",
       "    }\n",
       "\n",
       "    .dataframe thead th {\n",
       "        text-align: right;\n",
       "    }\n",
       "</style>\n",
       "<table border=\"1\" class=\"dataframe\">\n",
       "  <thead>\n",
       "    <tr style=\"text-align: right;\">\n",
       "      <th></th>\n",
       "      <th>Name</th>\n",
       "      <th>R</th>\n",
       "      <th>RE</th>\n",
       "    </tr>\n",
       "  </thead>\n",
       "  <tbody>\n",
       "    <tr>\n",
       "      <th>0</th>\n",
       "      <td>S. Arun(Jr)</td>\n",
       "      <td>246</td>\n",
       "      <td>26</td>\n",
       "    </tr>\n",
       "    <tr>\n",
       "      <th>1</th>\n",
       "      <td>M. Sanford(Jr)</td>\n",
       "      <td>7</td>\n",
       "      <td>0</td>\n",
       "    </tr>\n",
       "    <tr>\n",
       "      <th>2</th>\n",
       "      <td>C. Collier(Sr)</td>\n",
       "      <td>100</td>\n",
       "      <td>22</td>\n",
       "    </tr>\n",
       "    <tr>\n",
       "      <th>3</th>\n",
       "      <td>T. Ulak(Jr)</td>\n",
       "      <td>206</td>\n",
       "      <td>43</td>\n",
       "    </tr>\n",
       "    <tr>\n",
       "      <th>4</th>\n",
       "      <td>A. Okonkwo(Sr)</td>\n",
       "      <td>6</td>\n",
       "      <td>1</td>\n",
       "    </tr>\n",
       "    <tr>\n",
       "      <th>5</th>\n",
       "      <td>M. Donlon(Sr)</td>\n",
       "      <td>115</td>\n",
       "      <td>22</td>\n",
       "    </tr>\n",
       "    <tr>\n",
       "      <th>6</th>\n",
       "      <td>T. Ellis(Jr)</td>\n",
       "      <td>3</td>\n",
       "      <td>1</td>\n",
       "    </tr>\n",
       "    <tr>\n",
       "      <th>7</th>\n",
       "      <td>R. Wilkins(Sr)</td>\n",
       "      <td>299</td>\n",
       "      <td>42</td>\n",
       "    </tr>\n",
       "    <tr>\n",
       "      <th>8</th>\n",
       "      <td>H. Woods(Jr)</td>\n",
       "      <td>92</td>\n",
       "      <td>8</td>\n",
       "    </tr>\n",
       "  </tbody>\n",
       "</table>\n",
       "</div>"
      ],
      "text/plain": [
       "             Name    R  RE\n",
       "0     S. Arun(Jr)  246  26\n",
       "1  M. Sanford(Jr)    7   0\n",
       "2  C. Collier(Sr)  100  22\n",
       "3     T. Ulak(Jr)  206  43\n",
       "4  A. Okonkwo(Sr)    6   1\n",
       "5   M. Donlon(Sr)  115  22\n",
       "6    T. Ellis(Jr)    3   1\n",
       "7  R. Wilkins(Sr)  299  42\n",
       "8    H. Woods(Jr)   92   8"
      ]
     },
     "execution_count": 57,
     "metadata": {},
     "output_type": "execute_result"
    }
   ],
   "source": [
    "service_receiving_edited = service_receiving[[\"Name\", \"R\", \"RE\"]]\n",
    "service_receiving_edited"
   ]
  },
  {
   "cell_type": "code",
   "execution_count": 58,
   "id": "0b6f860c-0994-4b4c-9939-6573da73755d",
   "metadata": {},
   "outputs": [
    {
     "name": "stderr",
     "output_type": "stream",
     "text": [
      "/var/folders/7y/y3cwmsts0czcq2hzw6ftl5zr0000gn/T/ipykernel_91347/2981082082.py:1: SettingWithCopyWarning: \n",
      "A value is trying to be set on a copy of a slice from a DataFrame.\n",
      "Try using .loc[row_indexer,col_indexer] = value instead\n",
      "\n",
      "See the caveats in the documentation: https://pandas.pydata.org/pandas-docs/stable/user_guide/indexing.html#returning-a-view-versus-a-copy\n",
      "  service_receiving_edited['percentages'] = 100*service_receiving_edited['R'] / ( service_receiving_edited['R'] + service_receiving_edited['RE'])\n"
     ]
    },
    {
     "data": {
      "text/html": [
       "<div>\n",
       "<style scoped>\n",
       "    .dataframe tbody tr th:only-of-type {\n",
       "        vertical-align: middle;\n",
       "    }\n",
       "\n",
       "    .dataframe tbody tr th {\n",
       "        vertical-align: top;\n",
       "    }\n",
       "\n",
       "    .dataframe thead th {\n",
       "        text-align: right;\n",
       "    }\n",
       "</style>\n",
       "<table border=\"1\" class=\"dataframe\">\n",
       "  <thead>\n",
       "    <tr style=\"text-align: right;\">\n",
       "      <th></th>\n",
       "      <th>Name</th>\n",
       "      <th>R</th>\n",
       "      <th>RE</th>\n",
       "      <th>percentages</th>\n",
       "    </tr>\n",
       "  </thead>\n",
       "  <tbody>\n",
       "    <tr>\n",
       "      <th>0</th>\n",
       "      <td>S. Arun(Jr)</td>\n",
       "      <td>246</td>\n",
       "      <td>26</td>\n",
       "      <td>90.441176</td>\n",
       "    </tr>\n",
       "    <tr>\n",
       "      <th>1</th>\n",
       "      <td>M. Sanford(Jr)</td>\n",
       "      <td>7</td>\n",
       "      <td>0</td>\n",
       "      <td>100.000000</td>\n",
       "    </tr>\n",
       "    <tr>\n",
       "      <th>2</th>\n",
       "      <td>C. Collier(Sr)</td>\n",
       "      <td>100</td>\n",
       "      <td>22</td>\n",
       "      <td>81.967213</td>\n",
       "    </tr>\n",
       "    <tr>\n",
       "      <th>3</th>\n",
       "      <td>T. Ulak(Jr)</td>\n",
       "      <td>206</td>\n",
       "      <td>43</td>\n",
       "      <td>82.730924</td>\n",
       "    </tr>\n",
       "    <tr>\n",
       "      <th>4</th>\n",
       "      <td>A. Okonkwo(Sr)</td>\n",
       "      <td>6</td>\n",
       "      <td>1</td>\n",
       "      <td>85.714286</td>\n",
       "    </tr>\n",
       "    <tr>\n",
       "      <th>5</th>\n",
       "      <td>M. Donlon(Sr)</td>\n",
       "      <td>115</td>\n",
       "      <td>22</td>\n",
       "      <td>83.941606</td>\n",
       "    </tr>\n",
       "    <tr>\n",
       "      <th>6</th>\n",
       "      <td>T. Ellis(Jr)</td>\n",
       "      <td>3</td>\n",
       "      <td>1</td>\n",
       "      <td>75.000000</td>\n",
       "    </tr>\n",
       "    <tr>\n",
       "      <th>7</th>\n",
       "      <td>R. Wilkins(Sr)</td>\n",
       "      <td>299</td>\n",
       "      <td>42</td>\n",
       "      <td>87.683284</td>\n",
       "    </tr>\n",
       "    <tr>\n",
       "      <th>8</th>\n",
       "      <td>H. Woods(Jr)</td>\n",
       "      <td>92</td>\n",
       "      <td>8</td>\n",
       "      <td>92.000000</td>\n",
       "    </tr>\n",
       "  </tbody>\n",
       "</table>\n",
       "</div>"
      ],
      "text/plain": [
       "             Name    R  RE  percentages\n",
       "0     S. Arun(Jr)  246  26    90.441176\n",
       "1  M. Sanford(Jr)    7   0   100.000000\n",
       "2  C. Collier(Sr)  100  22    81.967213\n",
       "3     T. Ulak(Jr)  206  43    82.730924\n",
       "4  A. Okonkwo(Sr)    6   1    85.714286\n",
       "5   M. Donlon(Sr)  115  22    83.941606\n",
       "6    T. Ellis(Jr)    3   1    75.000000\n",
       "7  R. Wilkins(Sr)  299  42    87.683284\n",
       "8    H. Woods(Jr)   92   8    92.000000"
      ]
     },
     "execution_count": 58,
     "metadata": {},
     "output_type": "execute_result"
    }
   ],
   "source": [
    "service_receiving_edited['percentages'] = 100*service_receiving_edited['R'] / ( service_receiving_edited['R'] + service_receiving_edited['RE'])\n",
    "service_receiving_edited"
   ]
  },
  {
   "cell_type": "code",
   "execution_count": 59,
   "id": "fd0c297e-2512-455f-a02d-845bcaf5572a",
   "metadata": {},
   "outputs": [
    {
     "data": {
      "text/plain": [
       "<Axes: xlabel='Name'>"
      ]
     },
     "execution_count": 59,
     "metadata": {},
     "output_type": "execute_result"
    },
    {
     "data": {
      "image/png": "[encoded data removed]",
      "text/plain": [
       "<Figure size 200x200 with 1 Axes>"
      ]
     },
     "metadata": {},
     "output_type": "display_data"
    }
   ],
   "source": [
    "service_receiving_edited.plot.bar(x='Name', y='percentages')"
   ]
  },
  {
   "cell_type": "code",
   "execution_count": 60,
   "id": "81e4957a-0fa3-4a16-b13b-fd19d07663a1",
   "metadata": {},
   "outputs": [
    {
     "data": {
      "text/plain": [
       "0     90.441176\n",
       "1    100.000000\n",
       "2     81.967213\n",
       "3     82.730924\n",
       "4     85.714286\n",
       "5     83.941606\n",
       "6     75.000000\n",
       "7     87.683284\n",
       "8     92.000000\n",
       "dtype: float64"
      ]
     },
     "execution_count": 60,
     "metadata": {},
     "output_type": "execute_result"
    }
   ],
   "source": [
    "total_service_receiving = service_receiving_edited[\"R\"] + service_receiving_edited[\"RE\"]\n",
    "service_receiving_percentage = ((service_receiving_edited[\"R\"] / total_service_receiving) * 100)\n",
    "service_receiving_percentage"
   ]
  },
  {
   "cell_type": "code",
   "execution_count": 61,
   "id": "e1e033e7-fd02-4c8a-aca1-dcdf07aaff8d",
   "metadata": {},
   "outputs": [
    {
     "data": {
      "text/plain": [
       "90.44117647058823"
      ]
     },
     "execution_count": 61,
     "metadata": {},
     "output_type": "execute_result"
    }
   ],
   "source": [
    "service_receiving_percentage[0]"
   ]
  },
  {
   "cell_type": "markdown",
   "id": "ca64ce47-8e2c-422f-9527-dfe1b8d39f92",
   "metadata": {},
   "source": [
    "$$Service Receiving Acronym Notes$$\n",
    "    **SP** = total Sets played;\n",
    "    **R** = successful service reception;\n",
    "    **RE** = service reception error;\n",
    "    **R/S** = average receptions per set;\n",
    "    **R/M** = average receptions per match;"
   ]
  },
  {
   "cell_type": "markdown",
   "id": "d3f8787b-1b87-46cd-ada2-ea077d821c33",
   "metadata": {},
   "source": [
    "**PLOTTING GOAL**:\n",
    "gather everyones success percentages for each category;\n",
    "plot all of one person's percentages on a graph to show what they are best at;\n",
    "make a graph for each player"
   ]
  },
  {
   "cell_type": "code",
   "execution_count": 62,
   "id": "a3bcd73d-befc-4bd5-a3bc-a27f13e159c9",
   "metadata": {},
   "outputs": [
    {
     "data": {
      "image/png": "[encoded data removed]",
      "text/plain": [
       "<Figure size 200x200 with 1 Axes>"
      ]
     },
     "metadata": {},
     "output_type": "display_data"
    }
   ],
   "source": [
    "import matplotlib.pyplot as plt\n",
    "import numpy as np\n",
    "import matplotlib as mpl\n",
    "\n",
    "plt.style.use('_mpl-gallery')\n",
    "# make data\n",
    "x = 0.5 + np.arange(3)\n",
    "y = [dig_percentage[8], ball_handling_percentage[8], service_receiving_percentage[8]]\n",
    "#plot\n",
    "fig, ax = plt.subplots()\n",
    "ax.bar(x, y, width=1, edgecolor =\"white\", linewidth=0.7)\n",
    "ax.set(xlim=(0, 3), xticks=np.arange(0, 4),\n",
    "       ylim=(0, 100), yticks=np.arange(1,100))\n",
    "plt.show()"
   ]
  },
  {
   "cell_type": "code",
   "execution_count": 63,
   "id": "4de699cd-5868-4a79-af20-bbfbea1d2ec8",
   "metadata": {},
   "outputs": [
    {
     "data": {
      "text/html": [
       "<div>\n",
       "<style scoped>\n",
       "    .dataframe tbody tr th:only-of-type {\n",
       "        vertical-align: middle;\n",
       "    }\n",
       "\n",
       "    .dataframe tbody tr th {\n",
       "        vertical-align: top;\n",
       "    }\n",
       "\n",
       "    .dataframe thead th {\n",
       "        text-align: right;\n",
       "    }\n",
       "</style>\n",
       "<table border=\"1\" class=\"dataframe\">\n",
       "  <thead>\n",
       "    <tr style=\"text-align: right;\">\n",
       "      <th></th>\n",
       "      <th>Name</th>\n",
       "      <th>SP</th>\n",
       "      <th>Ast</th>\n",
       "      <th>Ast/S</th>\n",
       "      <th>BHA</th>\n",
       "      <th>BHE</th>\n",
       "      <th>D</th>\n",
       "      <th>DE</th>\n",
       "      <th>D/S</th>\n",
       "      <th>D/M</th>\n",
       "      <th>...</th>\n",
       "      <th>Tot Blks</th>\n",
       "      <th>B/S</th>\n",
       "      <th>B/M</th>\n",
       "      <th>BE</th>\n",
       "      <th>K</th>\n",
       "      <th>K/S</th>\n",
       "      <th>Kill %</th>\n",
       "      <th>Att</th>\n",
       "      <th>E</th>\n",
       "      <th>Hit %</th>\n",
       "    </tr>\n",
       "  </thead>\n",
       "  <tbody>\n",
       "    <tr>\n",
       "      <th>0</th>\n",
       "      <td>Arun</td>\n",
       "      <td>74</td>\n",
       "      <td>6</td>\n",
       "      <td>0.1</td>\n",
       "      <td>7</td>\n",
       "      <td>1</td>\n",
       "      <td>333</td>\n",
       "      <td>75</td>\n",
       "      <td>4.5</td>\n",
       "      <td>15.1</td>\n",
       "      <td>...</td>\n",
       "      <td>4.0</td>\n",
       "      <td>0.1</td>\n",
       "      <td>0.2</td>\n",
       "      <td>2</td>\n",
       "      <td>156</td>\n",
       "      <td>2.1</td>\n",
       "      <td>25.3</td>\n",
       "      <td>616</td>\n",
       "      <td>87</td>\n",
       "      <td>0.112</td>\n",
       "    </tr>\n",
       "    <tr>\n",
       "      <th>1</th>\n",
       "      <td>Layno</td>\n",
       "      <td>71</td>\n",
       "      <td>402</td>\n",
       "      <td>5.7</td>\n",
       "      <td>1533</td>\n",
       "      <td>33</td>\n",
       "      <td>191</td>\n",
       "      <td>52</td>\n",
       "      <td>2.7</td>\n",
       "      <td>9.1</td>\n",
       "      <td>...</td>\n",
       "      <td>0.0</td>\n",
       "      <td>0.0</td>\n",
       "      <td>0.0</td>\n",
       "      <td>0</td>\n",
       "      <td>5</td>\n",
       "      <td>0.1</td>\n",
       "      <td>6.8</td>\n",
       "      <td>74</td>\n",
       "      <td>12</td>\n",
       "      <td>-0.095</td>\n",
       "    </tr>\n",
       "    <tr>\n",
       "      <th>2</th>\n",
       "      <td>Sanford</td>\n",
       "      <td>74</td>\n",
       "      <td>0</td>\n",
       "      <td>0.0</td>\n",
       "      <td>0</td>\n",
       "      <td>0</td>\n",
       "      <td>33</td>\n",
       "      <td>17</td>\n",
       "      <td>0.4</td>\n",
       "      <td>1.5</td>\n",
       "      <td>...</td>\n",
       "      <td>30.0</td>\n",
       "      <td>0.4</td>\n",
       "      <td>1.4</td>\n",
       "      <td>9</td>\n",
       "      <td>83</td>\n",
       "      <td>1.1</td>\n",
       "      <td>31.9</td>\n",
       "      <td>260</td>\n",
       "      <td>32</td>\n",
       "      <td>0.196</td>\n",
       "    </tr>\n",
       "    <tr>\n",
       "      <th>3</th>\n",
       "      <td>Collier</td>\n",
       "      <td>69</td>\n",
       "      <td>3</td>\n",
       "      <td>0.0</td>\n",
       "      <td>3</td>\n",
       "      <td>0</td>\n",
       "      <td>75</td>\n",
       "      <td>28</td>\n",
       "      <td>1.1</td>\n",
       "      <td>3.4</td>\n",
       "      <td>...</td>\n",
       "      <td>8.0</td>\n",
       "      <td>0.1</td>\n",
       "      <td>0.4</td>\n",
       "      <td>4</td>\n",
       "      <td>90</td>\n",
       "      <td>1.3</td>\n",
       "      <td>23.3</td>\n",
       "      <td>386</td>\n",
       "      <td>67</td>\n",
       "      <td>0.060</td>\n",
       "    </tr>\n",
       "    <tr>\n",
       "      <th>4</th>\n",
       "      <td>Ulak</td>\n",
       "      <td>74</td>\n",
       "      <td>3</td>\n",
       "      <td>0.0</td>\n",
       "      <td>4</td>\n",
       "      <td>1</td>\n",
       "      <td>180</td>\n",
       "      <td>42</td>\n",
       "      <td>2.4</td>\n",
       "      <td>8.2</td>\n",
       "      <td>...</td>\n",
       "      <td>31.0</td>\n",
       "      <td>0.4</td>\n",
       "      <td>1.4</td>\n",
       "      <td>20</td>\n",
       "      <td>2</td>\n",
       "      <td>0.0</td>\n",
       "      <td>7.4</td>\n",
       "      <td>27</td>\n",
       "      <td>7</td>\n",
       "      <td>-0.185</td>\n",
       "    </tr>\n",
       "    <tr>\n",
       "      <th>5</th>\n",
       "      <td>Okonkwo</td>\n",
       "      <td>74</td>\n",
       "      <td>2</td>\n",
       "      <td>0.0</td>\n",
       "      <td>4</td>\n",
       "      <td>2</td>\n",
       "      <td>18</td>\n",
       "      <td>3</td>\n",
       "      <td>0.2</td>\n",
       "      <td>0.8</td>\n",
       "      <td>...</td>\n",
       "      <td>4.0</td>\n",
       "      <td>0.1</td>\n",
       "      <td>0.2</td>\n",
       "      <td>6</td>\n",
       "      <td>61</td>\n",
       "      <td>0.8</td>\n",
       "      <td>34.1</td>\n",
       "      <td>179</td>\n",
       "      <td>39</td>\n",
       "      <td>0.123</td>\n",
       "    </tr>\n",
       "    <tr>\n",
       "      <th>6</th>\n",
       "      <td>Donlon</td>\n",
       "      <td>74</td>\n",
       "      <td>0</td>\n",
       "      <td>0.0</td>\n",
       "      <td>2</td>\n",
       "      <td>2</td>\n",
       "      <td>119</td>\n",
       "      <td>32</td>\n",
       "      <td>1.6</td>\n",
       "      <td>5.4</td>\n",
       "      <td>...</td>\n",
       "      <td>0.0</td>\n",
       "      <td>0.0</td>\n",
       "      <td>0.0</td>\n",
       "      <td>0</td>\n",
       "      <td>140</td>\n",
       "      <td>1.9</td>\n",
       "      <td>28.6</td>\n",
       "      <td>489</td>\n",
       "      <td>84</td>\n",
       "      <td>0.115</td>\n",
       "    </tr>\n",
       "    <tr>\n",
       "      <th>7</th>\n",
       "      <td>Ellis</td>\n",
       "      <td>8</td>\n",
       "      <td>0</td>\n",
       "      <td>0.0</td>\n",
       "      <td>1</td>\n",
       "      <td>1</td>\n",
       "      <td>1</td>\n",
       "      <td>2</td>\n",
       "      <td>0.1</td>\n",
       "      <td>0.2</td>\n",
       "      <td>...</td>\n",
       "      <td>0.0</td>\n",
       "      <td>0.0</td>\n",
       "      <td>0.0</td>\n",
       "      <td>0</td>\n",
       "      <td>2</td>\n",
       "      <td>0.3</td>\n",
       "      <td>14.3</td>\n",
       "      <td>14</td>\n",
       "      <td>3</td>\n",
       "      <td>-0.071</td>\n",
       "    </tr>\n",
       "    <tr>\n",
       "      <th>8</th>\n",
       "      <td>Wilkins</td>\n",
       "      <td>64</td>\n",
       "      <td>13</td>\n",
       "      <td>0.2</td>\n",
       "      <td>14</td>\n",
       "      <td>1</td>\n",
       "      <td>314</td>\n",
       "      <td>93</td>\n",
       "      <td>4.9</td>\n",
       "      <td>16.5</td>\n",
       "      <td>...</td>\n",
       "      <td>0.0</td>\n",
       "      <td>0.0</td>\n",
       "      <td>0.0</td>\n",
       "      <td>0</td>\n",
       "      <td>6</td>\n",
       "      <td>0.1</td>\n",
       "      <td>13.3</td>\n",
       "      <td>45</td>\n",
       "      <td>6</td>\n",
       "      <td>0.000</td>\n",
       "    </tr>\n",
       "    <tr>\n",
       "      <th>9</th>\n",
       "      <td>Todd</td>\n",
       "      <td>9</td>\n",
       "      <td>0</td>\n",
       "      <td>0.0</td>\n",
       "      <td>0</td>\n",
       "      <td>0</td>\n",
       "      <td>2</td>\n",
       "      <td>1</td>\n",
       "      <td>0.2</td>\n",
       "      <td>0.3</td>\n",
       "      <td>...</td>\n",
       "      <td>28.6</td>\n",
       "      <td>7.0</td>\n",
       "      <td>1.0</td>\n",
       "      <td>0</td>\n",
       "      <td>2</td>\n",
       "      <td>0.2</td>\n",
       "      <td>28.6</td>\n",
       "      <td>7</td>\n",
       "      <td>1</td>\n",
       "      <td>0.143</td>\n",
       "    </tr>\n",
       "    <tr>\n",
       "      <th>10</th>\n",
       "      <td>Woods</td>\n",
       "      <td>64</td>\n",
       "      <td>223</td>\n",
       "      <td>3.5</td>\n",
       "      <td>880</td>\n",
       "      <td>18</td>\n",
       "      <td>137</td>\n",
       "      <td>39</td>\n",
       "      <td>2.1</td>\n",
       "      <td>7.2</td>\n",
       "      <td>...</td>\n",
       "      <td>28.9</td>\n",
       "      <td>443.0</td>\n",
       "      <td>58.0</td>\n",
       "      <td>13</td>\n",
       "      <td>128</td>\n",
       "      <td>2.0</td>\n",
       "      <td>28.9</td>\n",
       "      <td>443</td>\n",
       "      <td>58</td>\n",
       "      <td>0.158</td>\n",
       "    </tr>\n",
       "  </tbody>\n",
       "</table>\n",
       "<p>11 rows × 33 columns</p>\n",
       "</div>"
      ],
      "text/plain": [
       "       Name  SP  Ast  Ast/S   BHA  BHE    D  DE  D/S   D/M  ...  Tot Blks  \\\n",
       "0      Arun  74    6    0.1     7    1  333  75  4.5  15.1  ...       4.0   \n",
       "1     Layno  71  402    5.7  1533   33  191  52  2.7   9.1  ...       0.0   \n",
       "2   Sanford  74    0    0.0     0    0   33  17  0.4   1.5  ...      30.0   \n",
       "3   Collier  69    3    0.0     3    0   75  28  1.1   3.4  ...       8.0   \n",
       "4      Ulak  74    3    0.0     4    1  180  42  2.4   8.2  ...      31.0   \n",
       "5   Okonkwo  74    2    0.0     4    2   18   3  0.2   0.8  ...       4.0   \n",
       "6    Donlon  74    0    0.0     2    2  119  32  1.6   5.4  ...       0.0   \n",
       "7     Ellis   8    0    0.0     1    1    1   2  0.1   0.2  ...       0.0   \n",
       "8   Wilkins  64   13    0.2    14    1  314  93  4.9  16.5  ...       0.0   \n",
       "9      Todd   9    0    0.0     0    0    2   1  0.2   0.3  ...      28.6   \n",
       "10    Woods  64  223    3.5   880   18  137  39  2.1   7.2  ...      28.9   \n",
       "\n",
       "      B/S   B/M  BE    K  K/S  Kill %  Att   E  Hit %  \n",
       "0     0.1   0.2   2  156  2.1    25.3  616  87  0.112  \n",
       "1     0.0   0.0   0    5  0.1     6.8   74  12 -0.095  \n",
       "2     0.4   1.4   9   83  1.1    31.9  260  32  0.196  \n",
       "3     0.1   0.4   4   90  1.3    23.3  386  67  0.060  \n",
       "4     0.4   1.4  20    2  0.0     7.4   27   7 -0.185  \n",
       "5     0.1   0.2   6   61  0.8    34.1  179  39  0.123  \n",
       "6     0.0   0.0   0  140  1.9    28.6  489  84  0.115  \n",
       "7     0.0   0.0   0    2  0.3    14.3   14   3 -0.071  \n",
       "8     0.0   0.0   0    6  0.1    13.3   45   6  0.000  \n",
       "9     7.0   1.0   0    2  0.2    28.6    7   1  0.143  \n",
       "10  443.0  58.0  13  128  2.0    28.9  443  58  0.158  \n",
       "\n",
       "[11 rows x 33 columns]"
      ]
     },
     "execution_count": 63,
     "metadata": {},
     "output_type": "execute_result"
    }
   ],
   "source": [
    "super_data = pd.read_csv(\"SuperDataSheet - Sheet1.csv\")\n",
    "super_data"
   ]
  },
  {
   "cell_type": "code",
   "execution_count": 64,
   "id": "d5937642-b301-44bf-b414-43f243e6e2f6",
   "metadata": {},
   "outputs": [],
   "source": [
    "super_data_edited = super_data[[\"Name\", \"SP\", \"BHA\", \"BHE\", \"D\", \"DE\", \"Tot Blks\", \"BE\", \"Kill %\", \"Hit %\", \"Ace %\", \"Serv %\"]] "
   ]
  },
  {
   "cell_type": "code",
   "execution_count": 65,
   "id": "23439ae3-b06a-49f9-98c0-37cae71ef08f",
   "metadata": {},
   "outputs": [
    {
     "data": {
      "text/html": [
       "<div>\n",
       "<style scoped>\n",
       "    .dataframe tbody tr th:only-of-type {\n",
       "        vertical-align: middle;\n",
       "    }\n",
       "\n",
       "    .dataframe tbody tr th {\n",
       "        vertical-align: top;\n",
       "    }\n",
       "\n",
       "    .dataframe thead th {\n",
       "        text-align: right;\n",
       "    }\n",
       "</style>\n",
       "<table border=\"1\" class=\"dataframe\">\n",
       "  <thead>\n",
       "    <tr style=\"text-align: right;\">\n",
       "      <th></th>\n",
       "      <th>Name</th>\n",
       "      <th>R</th>\n",
       "      <th>RE</th>\n",
       "    </tr>\n",
       "  </thead>\n",
       "  <tbody>\n",
       "    <tr>\n",
       "      <th>0</th>\n",
       "      <td>S. Arun(Jr)</td>\n",
       "      <td>246</td>\n",
       "      <td>26</td>\n",
       "    </tr>\n",
       "    <tr>\n",
       "      <th>1</th>\n",
       "      <td>M. Sanford(Jr)</td>\n",
       "      <td>7</td>\n",
       "      <td>0</td>\n",
       "    </tr>\n",
       "    <tr>\n",
       "      <th>2</th>\n",
       "      <td>C. Collier(Sr)</td>\n",
       "      <td>100</td>\n",
       "      <td>22</td>\n",
       "    </tr>\n",
       "    <tr>\n",
       "      <th>3</th>\n",
       "      <td>T. Ulak(Jr)</td>\n",
       "      <td>206</td>\n",
       "      <td>43</td>\n",
       "    </tr>\n",
       "    <tr>\n",
       "      <th>4</th>\n",
       "      <td>A. Okonkwo(Sr)</td>\n",
       "      <td>6</td>\n",
       "      <td>1</td>\n",
       "    </tr>\n",
       "    <tr>\n",
       "      <th>5</th>\n",
       "      <td>M. Donlon(Sr)</td>\n",
       "      <td>115</td>\n",
       "      <td>22</td>\n",
       "    </tr>\n",
       "    <tr>\n",
       "      <th>6</th>\n",
       "      <td>T. Ellis(Jr)</td>\n",
       "      <td>3</td>\n",
       "      <td>1</td>\n",
       "    </tr>\n",
       "    <tr>\n",
       "      <th>7</th>\n",
       "      <td>R. Wilkins(Sr)</td>\n",
       "      <td>299</td>\n",
       "      <td>42</td>\n",
       "    </tr>\n",
       "    <tr>\n",
       "      <th>8</th>\n",
       "      <td>H. Woods(Jr)</td>\n",
       "      <td>92</td>\n",
       "      <td>8</td>\n",
       "    </tr>\n",
       "  </tbody>\n",
       "</table>\n",
       "</div>"
      ],
      "text/plain": [
       "             Name    R  RE\n",
       "0     S. Arun(Jr)  246  26\n",
       "1  M. Sanford(Jr)    7   0\n",
       "2  C. Collier(Sr)  100  22\n",
       "3     T. Ulak(Jr)  206  43\n",
       "4  A. Okonkwo(Sr)    6   1\n",
       "5   M. Donlon(Sr)  115  22\n",
       "6    T. Ellis(Jr)    3   1\n",
       "7  R. Wilkins(Sr)  299  42\n",
       "8    H. Woods(Jr)   92   8"
      ]
     },
     "execution_count": 65,
     "metadata": {},
     "output_type": "execute_result"
    }
   ],
   "source": [
    "service_receiving_edited[[\"Name\", \"R\", \"RE\"]]"
   ]
  },
  {
   "cell_type": "code",
   "execution_count": 66,
   "id": "6e289bd7-b6e8-4612-b4f8-a1df5f1bf043",
   "metadata": {},
   "outputs": [
    {
     "name": "stdout",
     "output_type": "stream",
     "text": [
      "       Name  SP    R  RE   BHA  BHE    D  DE  Tot Blks  BE  Kill %  Hit %  \\\n",
      "0      Arun  74  246  26     7    1  333  75       4.0   2    25.3  0.112   \n",
      "1     Layno  71    0   0  1533   33  191  52       0.0   0     6.8 -0.095   \n",
      "2   Sanford  74    7   0     0    0   33  17      30.0   9    31.9  0.196   \n",
      "3   Collier  69  100  22     3    0   75  28       8.0   4    23.3  0.060   \n",
      "4      Ulak  74  206  43     4    1  180  42      31.0  20     7.4 -0.185   \n",
      "5   Okonkwo  74    6   1     4    2   18   3       4.0   6    34.1  0.123   \n",
      "6    Donlon  74  115  22     2    2  119  32       0.0   0    28.6  0.115   \n",
      "7     Ellis   8    3   1     1    1    1   2       0.0   0    14.3 -0.071   \n",
      "8   Wilkins  64  299  42    14    1  314  93       0.0   0    13.3  0.000   \n",
      "9      Todd   9    0   0     0    0    2   1      28.6   0    28.6  0.143   \n",
      "10    Woods  64   92   8   880   18  137  39      28.9  13    28.9  0.158   \n",
      "\n",
      "    Ace %  Serv %  \n",
      "0    16.3    90.7  \n",
      "1    16.8    94.5  \n",
      "2     8.4    92.1  \n",
      "3    10.6    80.9  \n",
      "4    21.2    86.5  \n",
      "5     0.0     0.0  \n",
      "6     9.1    84.8  \n",
      "7     0.0     0.0  \n",
      "8     9.9    96.7  \n",
      "9     0.0     0.0  \n",
      "10   19.3    83.0  \n"
     ]
    }
   ],
   "source": [
    "import pandas as pd\n",
    "df = pd.DataFrame(super_data_edited)\n",
    "df.insert(2, \"R\", [246, 0, 7, 100, 206, 6, 115, 3, 299, 0, 92], True)\n",
    "df.insert(3, \"RE\", [26, 0, 0, 22, 43, 1, 22, 1, 42, 0, 8], True)\n",
    "print(df)"
   ]
  },
  {
   "cell_type": "code",
   "execution_count": 67,
   "id": "c2850fe9-74fe-433c-b435-4612de3911f2",
   "metadata": {},
   "outputs": [
    {
     "data": {
      "text/html": [
       "<div>\n",
       "<style scoped>\n",
       "    .dataframe tbody tr th:only-of-type {\n",
       "        vertical-align: middle;\n",
       "    }\n",
       "\n",
       "    .dataframe tbody tr th {\n",
       "        vertical-align: top;\n",
       "    }\n",
       "\n",
       "    .dataframe thead th {\n",
       "        text-align: right;\n",
       "    }\n",
       "</style>\n",
       "<table border=\"1\" class=\"dataframe\">\n",
       "  <thead>\n",
       "    <tr style=\"text-align: right;\">\n",
       "      <th></th>\n",
       "      <th>Name</th>\n",
       "      <th>SP</th>\n",
       "      <th>R</th>\n",
       "      <th>RE</th>\n",
       "      <th>BHA</th>\n",
       "      <th>BHE</th>\n",
       "      <th>D</th>\n",
       "      <th>DE</th>\n",
       "      <th>Tot Blks</th>\n",
       "      <th>BE</th>\n",
       "      <th>Kill %</th>\n",
       "      <th>Hit %</th>\n",
       "      <th>Ace %</th>\n",
       "      <th>Serv %</th>\n",
       "    </tr>\n",
       "  </thead>\n",
       "  <tbody>\n",
       "    <tr>\n",
       "      <th>0</th>\n",
       "      <td>Arun</td>\n",
       "      <td>74</td>\n",
       "      <td>246</td>\n",
       "      <td>26</td>\n",
       "      <td>7</td>\n",
       "      <td>1</td>\n",
       "      <td>333</td>\n",
       "      <td>75</td>\n",
       "      <td>4.0</td>\n",
       "      <td>2</td>\n",
       "      <td>25.3</td>\n",
       "      <td>0.112</td>\n",
       "      <td>16.3</td>\n",
       "      <td>90.7</td>\n",
       "    </tr>\n",
       "    <tr>\n",
       "      <th>1</th>\n",
       "      <td>Layno</td>\n",
       "      <td>71</td>\n",
       "      <td>0</td>\n",
       "      <td>0</td>\n",
       "      <td>1533</td>\n",
       "      <td>33</td>\n",
       "      <td>191</td>\n",
       "      <td>52</td>\n",
       "      <td>0.0</td>\n",
       "      <td>0</td>\n",
       "      <td>6.8</td>\n",
       "      <td>-0.095</td>\n",
       "      <td>16.8</td>\n",
       "      <td>94.5</td>\n",
       "    </tr>\n",
       "    <tr>\n",
       "      <th>2</th>\n",
       "      <td>Sanford</td>\n",
       "      <td>74</td>\n",
       "      <td>7</td>\n",
       "      <td>0</td>\n",
       "      <td>0</td>\n",
       "      <td>0</td>\n",
       "      <td>33</td>\n",
       "      <td>17</td>\n",
       "      <td>30.0</td>\n",
       "      <td>9</td>\n",
       "      <td>31.9</td>\n",
       "      <td>0.196</td>\n",
       "      <td>8.4</td>\n",
       "      <td>92.1</td>\n",
       "    </tr>\n",
       "    <tr>\n",
       "      <th>3</th>\n",
       "      <td>Collier</td>\n",
       "      <td>69</td>\n",
       "      <td>100</td>\n",
       "      <td>22</td>\n",
       "      <td>3</td>\n",
       "      <td>0</td>\n",
       "      <td>75</td>\n",
       "      <td>28</td>\n",
       "      <td>8.0</td>\n",
       "      <td>4</td>\n",
       "      <td>23.3</td>\n",
       "      <td>0.060</td>\n",
       "      <td>10.6</td>\n",
       "      <td>80.9</td>\n",
       "    </tr>\n",
       "    <tr>\n",
       "      <th>4</th>\n",
       "      <td>Ulak</td>\n",
       "      <td>74</td>\n",
       "      <td>206</td>\n",
       "      <td>43</td>\n",
       "      <td>4</td>\n",
       "      <td>1</td>\n",
       "      <td>180</td>\n",
       "      <td>42</td>\n",
       "      <td>31.0</td>\n",
       "      <td>20</td>\n",
       "      <td>7.4</td>\n",
       "      <td>-0.185</td>\n",
       "      <td>21.2</td>\n",
       "      <td>86.5</td>\n",
       "    </tr>\n",
       "    <tr>\n",
       "      <th>5</th>\n",
       "      <td>Okonkwo</td>\n",
       "      <td>74</td>\n",
       "      <td>6</td>\n",
       "      <td>1</td>\n",
       "      <td>4</td>\n",
       "      <td>2</td>\n",
       "      <td>18</td>\n",
       "      <td>3</td>\n",
       "      <td>4.0</td>\n",
       "      <td>6</td>\n",
       "      <td>34.1</td>\n",
       "      <td>0.123</td>\n",
       "      <td>0.0</td>\n",
       "      <td>0.0</td>\n",
       "    </tr>\n",
       "    <tr>\n",
       "      <th>6</th>\n",
       "      <td>Donlon</td>\n",
       "      <td>74</td>\n",
       "      <td>115</td>\n",
       "      <td>22</td>\n",
       "      <td>2</td>\n",
       "      <td>2</td>\n",
       "      <td>119</td>\n",
       "      <td>32</td>\n",
       "      <td>0.0</td>\n",
       "      <td>0</td>\n",
       "      <td>28.6</td>\n",
       "      <td>0.115</td>\n",
       "      <td>9.1</td>\n",
       "      <td>84.8</td>\n",
       "    </tr>\n",
       "    <tr>\n",
       "      <th>7</th>\n",
       "      <td>Ellis</td>\n",
       "      <td>8</td>\n",
       "      <td>3</td>\n",
       "      <td>1</td>\n",
       "      <td>1</td>\n",
       "      <td>1</td>\n",
       "      <td>1</td>\n",
       "      <td>2</td>\n",
       "      <td>0.0</td>\n",
       "      <td>0</td>\n",
       "      <td>14.3</td>\n",
       "      <td>-0.071</td>\n",
       "      <td>0.0</td>\n",
       "      <td>0.0</td>\n",
       "    </tr>\n",
       "    <tr>\n",
       "      <th>8</th>\n",
       "      <td>Wilkins</td>\n",
       "      <td>64</td>\n",
       "      <td>299</td>\n",
       "      <td>42</td>\n",
       "      <td>14</td>\n",
       "      <td>1</td>\n",
       "      <td>314</td>\n",
       "      <td>93</td>\n",
       "      <td>0.0</td>\n",
       "      <td>0</td>\n",
       "      <td>13.3</td>\n",
       "      <td>0.000</td>\n",
       "      <td>9.9</td>\n",
       "      <td>96.7</td>\n",
       "    </tr>\n",
       "    <tr>\n",
       "      <th>9</th>\n",
       "      <td>Todd</td>\n",
       "      <td>9</td>\n",
       "      <td>0</td>\n",
       "      <td>0</td>\n",
       "      <td>0</td>\n",
       "      <td>0</td>\n",
       "      <td>2</td>\n",
       "      <td>1</td>\n",
       "      <td>28.6</td>\n",
       "      <td>0</td>\n",
       "      <td>28.6</td>\n",
       "      <td>0.143</td>\n",
       "      <td>0.0</td>\n",
       "      <td>0.0</td>\n",
       "    </tr>\n",
       "    <tr>\n",
       "      <th>10</th>\n",
       "      <td>Woods</td>\n",
       "      <td>64</td>\n",
       "      <td>92</td>\n",
       "      <td>8</td>\n",
       "      <td>880</td>\n",
       "      <td>18</td>\n",
       "      <td>137</td>\n",
       "      <td>39</td>\n",
       "      <td>28.9</td>\n",
       "      <td>13</td>\n",
       "      <td>28.9</td>\n",
       "      <td>0.158</td>\n",
       "      <td>19.3</td>\n",
       "      <td>83.0</td>\n",
       "    </tr>\n",
       "  </tbody>\n",
       "</table>\n",
       "</div>"
      ],
      "text/plain": [
       "       Name  SP    R  RE   BHA  BHE    D  DE  Tot Blks  BE  Kill %  Hit %  \\\n",
       "0      Arun  74  246  26     7    1  333  75       4.0   2    25.3  0.112   \n",
       "1     Layno  71    0   0  1533   33  191  52       0.0   0     6.8 -0.095   \n",
       "2   Sanford  74    7   0     0    0   33  17      30.0   9    31.9  0.196   \n",
       "3   Collier  69  100  22     3    0   75  28       8.0   4    23.3  0.060   \n",
       "4      Ulak  74  206  43     4    1  180  42      31.0  20     7.4 -0.185   \n",
       "5   Okonkwo  74    6   1     4    2   18   3       4.0   6    34.1  0.123   \n",
       "6    Donlon  74  115  22     2    2  119  32       0.0   0    28.6  0.115   \n",
       "7     Ellis   8    3   1     1    1    1   2       0.0   0    14.3 -0.071   \n",
       "8   Wilkins  64  299  42    14    1  314  93       0.0   0    13.3  0.000   \n",
       "9      Todd   9    0   0     0    0    2   1      28.6   0    28.6  0.143   \n",
       "10    Woods  64   92   8   880   18  137  39      28.9  13    28.9  0.158   \n",
       "\n",
       "    Ace %  Serv %  \n",
       "0    16.3    90.7  \n",
       "1    16.8    94.5  \n",
       "2     8.4    92.1  \n",
       "3    10.6    80.9  \n",
       "4    21.2    86.5  \n",
       "5     0.0     0.0  \n",
       "6     9.1    84.8  \n",
       "7     0.0     0.0  \n",
       "8     9.9    96.7  \n",
       "9     0.0     0.0  \n",
       "10   19.3    83.0  "
      ]
     },
     "execution_count": 67,
     "metadata": {},
     "output_type": "execute_result"
    }
   ],
   "source": [
    "super_data_edited2 = df[[\"Name\", \"SP\", \"R\", \"RE\", \"BHA\", \"BHE\", \"D\", \"DE\", \"Tot Blks\", \"BE\", \"Kill %\", \"Hit %\", \"Ace %\", \"Serv %\"]]\n",
    "super_data_edited2"
   ]
  },
  {
   "cell_type": "code",
   "execution_count": 68,
   "id": "e3966dd1-96b4-4010-8819-ae11f15b335b",
   "metadata": {},
   "outputs": [
    {
     "name": "stdout",
     "output_type": "stream",
     "text": [
      "       Name  SP    R  RE        BH %        SR %        D %     Block %   BHA  \\\n",
      "0      Arun  74  246  26   85.714286   90.441176  81.617647   66.666667     7   \n",
      "1     Layno  71    0   0   97.847358         NaN  78.600823         NaN  1533   \n",
      "2   Sanford  74    7   0         NaN  100.000000  66.000000   76.923077     0   \n",
      "3   Collier  69  100  22  100.000000   81.967213  72.815534   66.666667     3   \n",
      "4      Ulak  74  206  43   75.000000   82.730924  81.081081   60.784314     4   \n",
      "5   Okonkwo  74    6   1   50.000000   85.714286  85.714286   40.000000     4   \n",
      "6    Donlon  74  115  22    0.000000   83.941606  78.807947         NaN     2   \n",
      "7     Ellis   8    3   1    0.000000   75.000000  33.333333         NaN     1   \n",
      "8   Wilkins  64  299  42   92.857143   87.683284  77.149877         NaN    14   \n",
      "9      Todd   9    0   0         NaN         NaN  66.666667  100.000000     0   \n",
      "10    Woods  64   92   8   97.954545   92.000000  77.840909   68.973747   880   \n",
      "\n",
      "    BHE    D  DE  Tot Blks  BE  Kill %  Hit %  Ace %  Serv %  \n",
      "0     1  333  75       4.0   2    25.3  0.112   16.3    90.7  \n",
      "1    33  191  52       0.0   0     6.8 -0.095   16.8    94.5  \n",
      "2     0   33  17      30.0   9    31.9  0.196    8.4    92.1  \n",
      "3     0   75  28       8.0   4    23.3  0.060   10.6    80.9  \n",
      "4     1  180  42      31.0  20     7.4 -0.185   21.2    86.5  \n",
      "5     2   18   3       4.0   6    34.1  0.123    0.0     0.0  \n",
      "6     2  119  32       0.0   0    28.6  0.115    9.1    84.8  \n",
      "7     1    1   2       0.0   0    14.3 -0.071    0.0     0.0  \n",
      "8     1  314  93       0.0   0    13.3  0.000    9.9    96.7  \n",
      "9     0    2   1      28.6   0    28.6  0.143    0.0     0.0  \n",
      "10   18  137  39      28.9  13    28.9  0.158   19.3    83.0  \n"
     ]
    }
   ],
   "source": [
    "df.insert(4, \"BH %\", (((100 * (super_data_edited[\"BHA\"] - super_data_edited[\"BHE\"])) / super_data_edited[\"BHA\"] )), True)\n",
    "df.insert(5, \"SR %\", ((100 * super_data_edited2[\"R\"]) / ((super_data_edited2[\"R\"] + super_data_edited2[\"RE\"]))), True)\n",
    "df.insert(6, \"D %\", ( (100 * super_data_edited2[\"D\"]) / (super_data_edited2[\"D\"] + super_data_edited2[\"DE\"]) ), True)\n",
    "df.insert(7, \"Block %\", ((100 * super_data_edited2[\"Tot Blks\"]) / (super_data_edited2[\"Tot Blks\"] + super_data_edited2[\"BE\"])), True)\n",
    "print(df)\n"
   ]
  },
  {
   "cell_type": "code",
   "execution_count": 69,
   "id": "aa37be0e-b41e-4014-869a-734182168b3b",
   "metadata": {},
   "outputs": [
    {
     "data": {
      "text/html": [
       "<div>\n",
       "<style scoped>\n",
       "    .dataframe tbody tr th:only-of-type {\n",
       "        vertical-align: middle;\n",
       "    }\n",
       "\n",
       "    .dataframe tbody tr th {\n",
       "        vertical-align: top;\n",
       "    }\n",
       "\n",
       "    .dataframe thead th {\n",
       "        text-align: right;\n",
       "    }\n",
       "</style>\n",
       "<table border=\"1\" class=\"dataframe\">\n",
       "  <thead>\n",
       "    <tr style=\"text-align: right;\">\n",
       "      <th></th>\n",
       "      <th>Name</th>\n",
       "      <th>Kill %</th>\n",
       "      <th>Hit %</th>\n",
       "      <th>Ace %</th>\n",
       "      <th>Serv %</th>\n",
       "      <th>Block %</th>\n",
       "      <th>BH %</th>\n",
       "      <th>SR %</th>\n",
       "      <th>D %</th>\n",
       "    </tr>\n",
       "  </thead>\n",
       "  <tbody>\n",
       "    <tr>\n",
       "      <th>0</th>\n",
       "      <td>Arun</td>\n",
       "      <td>25.3</td>\n",
       "      <td>0.112</td>\n",
       "      <td>16.3</td>\n",
       "      <td>90.7</td>\n",
       "      <td>66.666667</td>\n",
       "      <td>85.714286</td>\n",
       "      <td>90.441176</td>\n",
       "      <td>81.617647</td>\n",
       "    </tr>\n",
       "    <tr>\n",
       "      <th>1</th>\n",
       "      <td>Layno</td>\n",
       "      <td>6.8</td>\n",
       "      <td>-0.095</td>\n",
       "      <td>16.8</td>\n",
       "      <td>94.5</td>\n",
       "      <td>NaN</td>\n",
       "      <td>97.847358</td>\n",
       "      <td>NaN</td>\n",
       "      <td>78.600823</td>\n",
       "    </tr>\n",
       "    <tr>\n",
       "      <th>2</th>\n",
       "      <td>Sanford</td>\n",
       "      <td>31.9</td>\n",
       "      <td>0.196</td>\n",
       "      <td>8.4</td>\n",
       "      <td>92.1</td>\n",
       "      <td>76.923077</td>\n",
       "      <td>NaN</td>\n",
       "      <td>100.000000</td>\n",
       "      <td>66.000000</td>\n",
       "    </tr>\n",
       "    <tr>\n",
       "      <th>3</th>\n",
       "      <td>Collier</td>\n",
       "      <td>23.3</td>\n",
       "      <td>0.060</td>\n",
       "      <td>10.6</td>\n",
       "      <td>80.9</td>\n",
       "      <td>66.666667</td>\n",
       "      <td>100.000000</td>\n",
       "      <td>81.967213</td>\n",
       "      <td>72.815534</td>\n",
       "    </tr>\n",
       "    <tr>\n",
       "      <th>4</th>\n",
       "      <td>Ulak</td>\n",
       "      <td>7.4</td>\n",
       "      <td>-0.185</td>\n",
       "      <td>21.2</td>\n",
       "      <td>86.5</td>\n",
       "      <td>60.784314</td>\n",
       "      <td>75.000000</td>\n",
       "      <td>82.730924</td>\n",
       "      <td>81.081081</td>\n",
       "    </tr>\n",
       "    <tr>\n",
       "      <th>5</th>\n",
       "      <td>Okonkwo</td>\n",
       "      <td>34.1</td>\n",
       "      <td>0.123</td>\n",
       "      <td>0.0</td>\n",
       "      <td>0.0</td>\n",
       "      <td>40.000000</td>\n",
       "      <td>50.000000</td>\n",
       "      <td>85.714286</td>\n",
       "      <td>85.714286</td>\n",
       "    </tr>\n",
       "    <tr>\n",
       "      <th>6</th>\n",
       "      <td>Donlon</td>\n",
       "      <td>28.6</td>\n",
       "      <td>0.115</td>\n",
       "      <td>9.1</td>\n",
       "      <td>84.8</td>\n",
       "      <td>NaN</td>\n",
       "      <td>0.000000</td>\n",
       "      <td>83.941606</td>\n",
       "      <td>78.807947</td>\n",
       "    </tr>\n",
       "    <tr>\n",
       "      <th>7</th>\n",
       "      <td>Ellis</td>\n",
       "      <td>14.3</td>\n",
       "      <td>-0.071</td>\n",
       "      <td>0.0</td>\n",
       "      <td>0.0</td>\n",
       "      <td>NaN</td>\n",
       "      <td>0.000000</td>\n",
       "      <td>75.000000</td>\n",
       "      <td>33.333333</td>\n",
       "    </tr>\n",
       "    <tr>\n",
       "      <th>8</th>\n",
       "      <td>Wilkins</td>\n",
       "      <td>13.3</td>\n",
       "      <td>0.000</td>\n",
       "      <td>9.9</td>\n",
       "      <td>96.7</td>\n",
       "      <td>NaN</td>\n",
       "      <td>92.857143</td>\n",
       "      <td>87.683284</td>\n",
       "      <td>77.149877</td>\n",
       "    </tr>\n",
       "    <tr>\n",
       "      <th>9</th>\n",
       "      <td>Todd</td>\n",
       "      <td>28.6</td>\n",
       "      <td>0.143</td>\n",
       "      <td>0.0</td>\n",
       "      <td>0.0</td>\n",
       "      <td>100.000000</td>\n",
       "      <td>NaN</td>\n",
       "      <td>NaN</td>\n",
       "      <td>66.666667</td>\n",
       "    </tr>\n",
       "    <tr>\n",
       "      <th>10</th>\n",
       "      <td>Woods</td>\n",
       "      <td>28.9</td>\n",
       "      <td>0.158</td>\n",
       "      <td>19.3</td>\n",
       "      <td>83.0</td>\n",
       "      <td>68.973747</td>\n",
       "      <td>97.954545</td>\n",
       "      <td>92.000000</td>\n",
       "      <td>77.840909</td>\n",
       "    </tr>\n",
       "  </tbody>\n",
       "</table>\n",
       "</div>"
      ],
      "text/plain": [
       "       Name  Kill %  Hit %  Ace %  Serv %     Block %        BH %        SR %  \\\n",
       "0      Arun    25.3  0.112   16.3    90.7   66.666667   85.714286   90.441176   \n",
       "1     Layno     6.8 -0.095   16.8    94.5         NaN   97.847358         NaN   \n",
       "2   Sanford    31.9  0.196    8.4    92.1   76.923077         NaN  100.000000   \n",
       "3   Collier    23.3  0.060   10.6    80.9   66.666667  100.000000   81.967213   \n",
       "4      Ulak     7.4 -0.185   21.2    86.5   60.784314   75.000000   82.730924   \n",
       "5   Okonkwo    34.1  0.123    0.0     0.0   40.000000   50.000000   85.714286   \n",
       "6    Donlon    28.6  0.115    9.1    84.8         NaN    0.000000   83.941606   \n",
       "7     Ellis    14.3 -0.071    0.0     0.0         NaN    0.000000   75.000000   \n",
       "8   Wilkins    13.3  0.000    9.9    96.7         NaN   92.857143   87.683284   \n",
       "9      Todd    28.6  0.143    0.0     0.0  100.000000         NaN         NaN   \n",
       "10    Woods    28.9  0.158   19.3    83.0   68.973747   97.954545   92.000000   \n",
       "\n",
       "          D %  \n",
       "0   81.617647  \n",
       "1   78.600823  \n",
       "2   66.000000  \n",
       "3   72.815534  \n",
       "4   81.081081  \n",
       "5   85.714286  \n",
       "6   78.807947  \n",
       "7   33.333333  \n",
       "8   77.149877  \n",
       "9   66.666667  \n",
       "10  77.840909  "
      ]
     },
     "execution_count": 69,
     "metadata": {},
     "output_type": "execute_result"
    }
   ],
   "source": [
    "#| label: my-cell\n",
    "df1 = df[[\"Name\",\"Kill %\", \"Hit %\", \"Ace %\", \"Serv %\", \"Block %\", \"BH %\", \"SR %\", \"D %\"]]\n",
    "df1"
   ]
  },
  {
   "cell_type": "code",
   "execution_count": 70,
   "id": "e347b219-9b10-45c6-be5f-629f9175d8c6",
   "metadata": {},
   "outputs": [],
   "source": [
    "df1 = df1.set_index(\"Name\")"
   ]
  },
  {
   "cell_type": "code",
   "execution_count": 71,
   "id": "ec9f6583-0e63-4a67-ba86-edd930e4ff6b",
   "metadata": {},
   "outputs": [
    {
     "ename": "IntCastingNaNError",
     "evalue": "Cannot convert non-finite values (NA or inf) to integer",
     "output_type": "error",
     "traceback": [
      "\u001b[0;31m---------------------------------------------------------------------------\u001b[0m",
      "\u001b[0;31mIntCastingNaNError\u001b[0m                        Traceback (most recent call last)",
      "Cell \u001b[0;32mIn[71], line 1\u001b[0m\n\u001b[0;32m----> 1\u001b[0m df1 \u001b[38;5;241m=\u001b[39m \u001b[43mdf1\u001b[49m\u001b[38;5;241;43m.\u001b[39;49m\u001b[43mastype\u001b[49m\u001b[43m(\u001b[49m\u001b[38;5;28;43mint\u001b[39;49m\u001b[43m)\u001b[49m\n",
      "File \u001b[0;32m~/miniforge3/envs/jterm1/lib/python3.12/site-packages/pandas/core/generic.py:6534\u001b[0m, in \u001b[0;36mNDFrame.astype\u001b[0;34m(self, dtype, copy, errors)\u001b[0m\n\u001b[1;32m   6530\u001b[0m     results \u001b[38;5;241m=\u001b[39m [ser\u001b[38;5;241m.\u001b[39mastype(dtype, copy\u001b[38;5;241m=\u001b[39mcopy) \u001b[38;5;28;01mfor\u001b[39;00m _, ser \u001b[38;5;129;01min\u001b[39;00m \u001b[38;5;28mself\u001b[39m\u001b[38;5;241m.\u001b[39mitems()]\n\u001b[1;32m   6532\u001b[0m \u001b[38;5;28;01melse\u001b[39;00m:\n\u001b[1;32m   6533\u001b[0m     \u001b[38;5;66;03m# else, only a single dtype is given\u001b[39;00m\n\u001b[0;32m-> 6534\u001b[0m     new_data \u001b[38;5;241m=\u001b[39m \u001b[38;5;28;43mself\u001b[39;49m\u001b[38;5;241;43m.\u001b[39;49m\u001b[43m_mgr\u001b[49m\u001b[38;5;241;43m.\u001b[39;49m\u001b[43mastype\u001b[49m\u001b[43m(\u001b[49m\u001b[43mdtype\u001b[49m\u001b[38;5;241;43m=\u001b[39;49m\u001b[43mdtype\u001b[49m\u001b[43m,\u001b[49m\u001b[43m \u001b[49m\u001b[43mcopy\u001b[49m\u001b[38;5;241;43m=\u001b[39;49m\u001b[43mcopy\u001b[49m\u001b[43m,\u001b[49m\u001b[43m \u001b[49m\u001b[43merrors\u001b[49m\u001b[38;5;241;43m=\u001b[39;49m\u001b[43merrors\u001b[49m\u001b[43m)\u001b[49m\n\u001b[1;32m   6535\u001b[0m     res \u001b[38;5;241m=\u001b[39m \u001b[38;5;28mself\u001b[39m\u001b[38;5;241m.\u001b[39m_constructor_from_mgr(new_data, axes\u001b[38;5;241m=\u001b[39mnew_data\u001b[38;5;241m.\u001b[39maxes)\n\u001b[1;32m   6536\u001b[0m     \u001b[38;5;28;01mreturn\u001b[39;00m res\u001b[38;5;241m.\u001b[39m__finalize__(\u001b[38;5;28mself\u001b[39m, method\u001b[38;5;241m=\u001b[39m\u001b[38;5;124m\"\u001b[39m\u001b[38;5;124mastype\u001b[39m\u001b[38;5;124m\"\u001b[39m)\n",
      "File \u001b[0;32m~/miniforge3/envs/jterm1/lib/python3.12/site-packages/pandas/core/internals/managers.py:414\u001b[0m, in \u001b[0;36mBaseBlockManager.astype\u001b[0;34m(self, dtype, copy, errors)\u001b[0m\n\u001b[1;32m    411\u001b[0m \u001b[38;5;28;01melif\u001b[39;00m using_copy_on_write():\n\u001b[1;32m    412\u001b[0m     copy \u001b[38;5;241m=\u001b[39m \u001b[38;5;28;01mFalse\u001b[39;00m\n\u001b[0;32m--> 414\u001b[0m \u001b[38;5;28;01mreturn\u001b[39;00m \u001b[38;5;28;43mself\u001b[39;49m\u001b[38;5;241;43m.\u001b[39;49m\u001b[43mapply\u001b[49m\u001b[43m(\u001b[49m\n\u001b[1;32m    415\u001b[0m \u001b[43m    \u001b[49m\u001b[38;5;124;43m\"\u001b[39;49m\u001b[38;5;124;43mastype\u001b[39;49m\u001b[38;5;124;43m\"\u001b[39;49m\u001b[43m,\u001b[49m\n\u001b[1;32m    416\u001b[0m \u001b[43m    \u001b[49m\u001b[43mdtype\u001b[49m\u001b[38;5;241;43m=\u001b[39;49m\u001b[43mdtype\u001b[49m\u001b[43m,\u001b[49m\n\u001b[1;32m    417\u001b[0m \u001b[43m    \u001b[49m\u001b[43mcopy\u001b[49m\u001b[38;5;241;43m=\u001b[39;49m\u001b[43mcopy\u001b[49m\u001b[43m,\u001b[49m\n\u001b[1;32m    418\u001b[0m \u001b[43m    \u001b[49m\u001b[43merrors\u001b[49m\u001b[38;5;241;43m=\u001b[39;49m\u001b[43merrors\u001b[49m\u001b[43m,\u001b[49m\n\u001b[1;32m    419\u001b[0m \u001b[43m    \u001b[49m\u001b[43musing_cow\u001b[49m\u001b[38;5;241;43m=\u001b[39;49m\u001b[43musing_copy_on_write\u001b[49m\u001b[43m(\u001b[49m\u001b[43m)\u001b[49m\u001b[43m,\u001b[49m\n\u001b[1;32m    420\u001b[0m \u001b[43m\u001b[49m\u001b[43m)\u001b[49m\n",
      "File \u001b[0;32m~/miniforge3/envs/jterm1/lib/python3.12/site-packages/pandas/core/internals/managers.py:354\u001b[0m, in \u001b[0;36mBaseBlockManager.apply\u001b[0;34m(self, f, align_keys, **kwargs)\u001b[0m\n\u001b[1;32m    352\u001b[0m         applied \u001b[38;5;241m=\u001b[39m b\u001b[38;5;241m.\u001b[39mapply(f, \u001b[38;5;241m*\u001b[39m\u001b[38;5;241m*\u001b[39mkwargs)\n\u001b[1;32m    353\u001b[0m     \u001b[38;5;28;01melse\u001b[39;00m:\n\u001b[0;32m--> 354\u001b[0m         applied \u001b[38;5;241m=\u001b[39m \u001b[38;5;28;43mgetattr\u001b[39;49m\u001b[43m(\u001b[49m\u001b[43mb\u001b[49m\u001b[43m,\u001b[49m\u001b[43m \u001b[49m\u001b[43mf\u001b[49m\u001b[43m)\u001b[49m\u001b[43m(\u001b[49m\u001b[38;5;241;43m*\u001b[39;49m\u001b[38;5;241;43m*\u001b[39;49m\u001b[43mkwargs\u001b[49m\u001b[43m)\u001b[49m\n\u001b[1;32m    355\u001b[0m     result_blocks \u001b[38;5;241m=\u001b[39m extend_blocks(applied, result_blocks)\n\u001b[1;32m    357\u001b[0m out \u001b[38;5;241m=\u001b[39m \u001b[38;5;28mtype\u001b[39m(\u001b[38;5;28mself\u001b[39m)\u001b[38;5;241m.\u001b[39mfrom_blocks(result_blocks, \u001b[38;5;28mself\u001b[39m\u001b[38;5;241m.\u001b[39maxes)\n",
      "File \u001b[0;32m~/miniforge3/envs/jterm1/lib/python3.12/site-packages/pandas/core/internals/blocks.py:616\u001b[0m, in \u001b[0;36mBlock.astype\u001b[0;34m(self, dtype, copy, errors, using_cow)\u001b[0m\n\u001b[1;32m    596\u001b[0m \u001b[38;5;250m\u001b[39m\u001b[38;5;124;03m\"\"\"\u001b[39;00m\n\u001b[1;32m    597\u001b[0m \u001b[38;5;124;03mCoerce to the new dtype.\u001b[39;00m\n\u001b[1;32m    598\u001b[0m \n\u001b[0;32m   (...)\u001b[0m\n\u001b[1;32m    612\u001b[0m \u001b[38;5;124;03mBlock\u001b[39;00m\n\u001b[1;32m    613\u001b[0m \u001b[38;5;124;03m\"\"\"\u001b[39;00m\n\u001b[1;32m    614\u001b[0m values \u001b[38;5;241m=\u001b[39m \u001b[38;5;28mself\u001b[39m\u001b[38;5;241m.\u001b[39mvalues\n\u001b[0;32m--> 616\u001b[0m new_values \u001b[38;5;241m=\u001b[39m \u001b[43mastype_array_safe\u001b[49m\u001b[43m(\u001b[49m\u001b[43mvalues\u001b[49m\u001b[43m,\u001b[49m\u001b[43m \u001b[49m\u001b[43mdtype\u001b[49m\u001b[43m,\u001b[49m\u001b[43m \u001b[49m\u001b[43mcopy\u001b[49m\u001b[38;5;241;43m=\u001b[39;49m\u001b[43mcopy\u001b[49m\u001b[43m,\u001b[49m\u001b[43m \u001b[49m\u001b[43merrors\u001b[49m\u001b[38;5;241;43m=\u001b[39;49m\u001b[43merrors\u001b[49m\u001b[43m)\u001b[49m\n\u001b[1;32m    618\u001b[0m new_values \u001b[38;5;241m=\u001b[39m maybe_coerce_values(new_values)\n\u001b[1;32m    620\u001b[0m refs \u001b[38;5;241m=\u001b[39m \u001b[38;5;28;01mNone\u001b[39;00m\n",
      "File \u001b[0;32m~/miniforge3/envs/jterm1/lib/python3.12/site-packages/pandas/core/dtypes/astype.py:238\u001b[0m, in \u001b[0;36mastype_array_safe\u001b[0;34m(values, dtype, copy, errors)\u001b[0m\n\u001b[1;32m    235\u001b[0m     dtype \u001b[38;5;241m=\u001b[39m dtype\u001b[38;5;241m.\u001b[39mnumpy_dtype\n\u001b[1;32m    237\u001b[0m \u001b[38;5;28;01mtry\u001b[39;00m:\n\u001b[0;32m--> 238\u001b[0m     new_values \u001b[38;5;241m=\u001b[39m \u001b[43mastype_array\u001b[49m\u001b[43m(\u001b[49m\u001b[43mvalues\u001b[49m\u001b[43m,\u001b[49m\u001b[43m \u001b[49m\u001b[43mdtype\u001b[49m\u001b[43m,\u001b[49m\u001b[43m \u001b[49m\u001b[43mcopy\u001b[49m\u001b[38;5;241;43m=\u001b[39;49m\u001b[43mcopy\u001b[49m\u001b[43m)\u001b[49m\n\u001b[1;32m    239\u001b[0m \u001b[38;5;28;01mexcept\u001b[39;00m (\u001b[38;5;167;01mValueError\u001b[39;00m, \u001b[38;5;167;01mTypeError\u001b[39;00m):\n\u001b[1;32m    240\u001b[0m     \u001b[38;5;66;03m# e.g. _astype_nansafe can fail on object-dtype of strings\u001b[39;00m\n\u001b[1;32m    241\u001b[0m     \u001b[38;5;66;03m#  trying to convert to float\u001b[39;00m\n\u001b[1;32m    242\u001b[0m     \u001b[38;5;28;01mif\u001b[39;00m errors \u001b[38;5;241m==\u001b[39m \u001b[38;5;124m\"\u001b[39m\u001b[38;5;124mignore\u001b[39m\u001b[38;5;124m\"\u001b[39m:\n",
      "File \u001b[0;32m~/miniforge3/envs/jterm1/lib/python3.12/site-packages/pandas/core/dtypes/astype.py:183\u001b[0m, in \u001b[0;36mastype_array\u001b[0;34m(values, dtype, copy)\u001b[0m\n\u001b[1;32m    180\u001b[0m     values \u001b[38;5;241m=\u001b[39m values\u001b[38;5;241m.\u001b[39mastype(dtype, copy\u001b[38;5;241m=\u001b[39mcopy)\n\u001b[1;32m    182\u001b[0m \u001b[38;5;28;01melse\u001b[39;00m:\n\u001b[0;32m--> 183\u001b[0m     values \u001b[38;5;241m=\u001b[39m \u001b[43m_astype_nansafe\u001b[49m\u001b[43m(\u001b[49m\u001b[43mvalues\u001b[49m\u001b[43m,\u001b[49m\u001b[43m \u001b[49m\u001b[43mdtype\u001b[49m\u001b[43m,\u001b[49m\u001b[43m \u001b[49m\u001b[43mcopy\u001b[49m\u001b[38;5;241;43m=\u001b[39;49m\u001b[43mcopy\u001b[49m\u001b[43m)\u001b[49m\n\u001b[1;32m    185\u001b[0m \u001b[38;5;66;03m# in pandas we don't store numpy str dtypes, so convert to object\u001b[39;00m\n\u001b[1;32m    186\u001b[0m \u001b[38;5;28;01mif\u001b[39;00m \u001b[38;5;28misinstance\u001b[39m(dtype, np\u001b[38;5;241m.\u001b[39mdtype) \u001b[38;5;129;01mand\u001b[39;00m \u001b[38;5;28missubclass\u001b[39m(values\u001b[38;5;241m.\u001b[39mdtype\u001b[38;5;241m.\u001b[39mtype, \u001b[38;5;28mstr\u001b[39m):\n",
      "File \u001b[0;32m~/miniforge3/envs/jterm1/lib/python3.12/site-packages/pandas/core/dtypes/astype.py:101\u001b[0m, in \u001b[0;36m_astype_nansafe\u001b[0;34m(arr, dtype, copy, skipna)\u001b[0m\n\u001b[1;32m     96\u001b[0m     \u001b[38;5;28;01mreturn\u001b[39;00m lib\u001b[38;5;241m.\u001b[39mensure_string_array(\n\u001b[1;32m     97\u001b[0m         arr, skipna\u001b[38;5;241m=\u001b[39mskipna, convert_na_value\u001b[38;5;241m=\u001b[39m\u001b[38;5;28;01mFalse\u001b[39;00m\n\u001b[1;32m     98\u001b[0m     )\u001b[38;5;241m.\u001b[39mreshape(shape)\n\u001b[1;32m    100\u001b[0m \u001b[38;5;28;01melif\u001b[39;00m np\u001b[38;5;241m.\u001b[39missubdtype(arr\u001b[38;5;241m.\u001b[39mdtype, np\u001b[38;5;241m.\u001b[39mfloating) \u001b[38;5;129;01mand\u001b[39;00m dtype\u001b[38;5;241m.\u001b[39mkind \u001b[38;5;129;01min\u001b[39;00m \u001b[38;5;124m\"\u001b[39m\u001b[38;5;124miu\u001b[39m\u001b[38;5;124m\"\u001b[39m:\n\u001b[0;32m--> 101\u001b[0m     \u001b[38;5;28;01mreturn\u001b[39;00m \u001b[43m_astype_float_to_int_nansafe\u001b[49m\u001b[43m(\u001b[49m\u001b[43marr\u001b[49m\u001b[43m,\u001b[49m\u001b[43m \u001b[49m\u001b[43mdtype\u001b[49m\u001b[43m,\u001b[49m\u001b[43m \u001b[49m\u001b[43mcopy\u001b[49m\u001b[43m)\u001b[49m\n\u001b[1;32m    103\u001b[0m \u001b[38;5;28;01melif\u001b[39;00m arr\u001b[38;5;241m.\u001b[39mdtype \u001b[38;5;241m==\u001b[39m \u001b[38;5;28mobject\u001b[39m:\n\u001b[1;32m    104\u001b[0m     \u001b[38;5;66;03m# if we have a datetime/timedelta array of objects\u001b[39;00m\n\u001b[1;32m    105\u001b[0m     \u001b[38;5;66;03m# then coerce to datetime64[ns] and use DatetimeArray.astype\u001b[39;00m\n\u001b[1;32m    107\u001b[0m     \u001b[38;5;28;01mif\u001b[39;00m lib\u001b[38;5;241m.\u001b[39mis_np_dtype(dtype, \u001b[38;5;124m\"\u001b[39m\u001b[38;5;124mM\u001b[39m\u001b[38;5;124m\"\u001b[39m):\n",
      "File \u001b[0;32m~/miniforge3/envs/jterm1/lib/python3.12/site-packages/pandas/core/dtypes/astype.py:146\u001b[0m, in \u001b[0;36m_astype_float_to_int_nansafe\u001b[0;34m(values, dtype, copy)\u001b[0m\n\u001b[1;32m    142\u001b[0m \u001b[38;5;250m\u001b[39m\u001b[38;5;124;03m\"\"\"\u001b[39;00m\n\u001b[1;32m    143\u001b[0m \u001b[38;5;124;03mastype with a check preventing converting NaN to an meaningless integer value.\u001b[39;00m\n\u001b[1;32m    144\u001b[0m \u001b[38;5;124;03m\"\"\"\u001b[39;00m\n\u001b[1;32m    145\u001b[0m \u001b[38;5;28;01mif\u001b[39;00m \u001b[38;5;129;01mnot\u001b[39;00m np\u001b[38;5;241m.\u001b[39misfinite(values)\u001b[38;5;241m.\u001b[39mall():\n\u001b[0;32m--> 146\u001b[0m     \u001b[38;5;28;01mraise\u001b[39;00m IntCastingNaNError(\n\u001b[1;32m    147\u001b[0m         \u001b[38;5;124m\"\u001b[39m\u001b[38;5;124mCannot convert non-finite values (NA or inf) to integer\u001b[39m\u001b[38;5;124m\"\u001b[39m\n\u001b[1;32m    148\u001b[0m     )\n\u001b[1;32m    149\u001b[0m \u001b[38;5;28;01mif\u001b[39;00m dtype\u001b[38;5;241m.\u001b[39mkind \u001b[38;5;241m==\u001b[39m \u001b[38;5;124m\"\u001b[39m\u001b[38;5;124mu\u001b[39m\u001b[38;5;124m\"\u001b[39m:\n\u001b[1;32m    150\u001b[0m     \u001b[38;5;66;03m# GH#45151\u001b[39;00m\n\u001b[1;32m    151\u001b[0m     \u001b[38;5;28;01mif\u001b[39;00m \u001b[38;5;129;01mnot\u001b[39;00m (values \u001b[38;5;241m>\u001b[39m\u001b[38;5;241m=\u001b[39m \u001b[38;5;241m0\u001b[39m)\u001b[38;5;241m.\u001b[39mall():\n",
      "\u001b[0;31mIntCastingNaNError\u001b[0m: Cannot convert non-finite values (NA or inf) to integer"
     ]
    }
   ],
   "source": [
    "df1 = df1.astype(int)"
   ]
  },
  {
   "cell_type": "code",
   "execution_count": 83,
   "id": "47becd34-9ab3-4a6f-8886-7f1c93f7b991",
   "metadata": {},
   "outputs": [
    {
     "data": {
      "text/plain": [
       "<Axes: >"
      ]
     },
     "execution_count": 83,
     "metadata": {},
     "output_type": "execute_result"
    },
    {
     "data": {
      "image/png": "[encoded data removed]",
      "text/plain": [
       "<Figure size 200x200 with 1 Axes>"
      ]
     },
     "metadata": {},
     "output_type": "display_data"
    }
   ],
   "source": [
    "#| label: saachi\n",
    "row = df1.loc[\"Arun\"]\n",
    "row.plot.bar()"
   ]
  },
  {
   "cell_type": "code",
   "execution_count": 84,
   "id": "1787533c-143b-4a47-8408-116b11bad1fa",
   "metadata": {},
   "outputs": [
    {
     "data": {
      "text/plain": [
       "<Axes: >"
      ]
     },
     "execution_count": 84,
     "metadata": {},
     "output_type": "execute_result"
    },
    {
     "data": {
      "image/png": "[encoded data removed]",
      "text/plain": [
       "<Figure size 200x200 with 1 Axes>"
      ]
     },
     "metadata": {},
     "output_type": "display_data"
    }
   ],
   "source": [
    "#| label: jules\n",
    "row = df1.loc[\"Layno\"]\n",
    "row.plot.bar()"
   ]
  },
  {
   "cell_type": "code",
   "execution_count": 74,
   "id": "f132c919-6fb8-47be-91d7-dae7805ffa1c",
   "metadata": {},
   "outputs": [
    {
     "data": {
      "text/plain": [
       "<Axes: >"
      ]
     },
     "execution_count": 74,
     "metadata": {},
     "output_type": "execute_result"
    },
    {
     "data": {
      "image/png": "[encoded data removed]",
      "text/plain": [
       "<Figure size 200x200 with 1 Axes>"
      ]
     },
     "metadata": {},
     "output_type": "display_data"
    }
   ],
   "source": [
    "#| label: jules\n",
    "row = df1.loc[\"Sanford\"]\n",
    "row.plot.bar()"
   ]
  },
  {
   "cell_type": "code",
   "execution_count": 75,
   "id": "c47ab914-56ad-42de-b563-0bcbfbddd796",
   "metadata": {},
   "outputs": [
    {
     "data": {
      "text/plain": [
       "<Axes: >"
      ]
     },
     "execution_count": 75,
     "metadata": {},
     "output_type": "execute_result"
    },
    {
     "data": {
      "image/png": "[encoded data removed]",
      "text/plain": [
       "<Figure size 200x200 with 1 Axes>"
      ]
     },
     "metadata": {},
     "output_type": "display_data"
    }
   ],
   "source": [
    "row = df1.loc[\"Collier\"]\n",
    "row.plot.bar()"
   ]
  },
  {
   "cell_type": "code",
   "execution_count": 76,
   "id": "7feab934-9f28-4f42-bce5-2798f3c19c8b",
   "metadata": {},
   "outputs": [
    {
     "data": {
      "text/plain": [
       "<Axes: >"
      ]
     },
     "execution_count": 76,
     "metadata": {},
     "output_type": "execute_result"
    },
    {
     "data": {
      "image/png": "[encoded data removed]",
      "text/plain": [
       "<Figure size 200x200 with 1 Axes>"
      ]
     },
     "metadata": {},
     "output_type": "display_data"
    }
   ],
   "source": [
    "row = df1.loc[\"Ulak\"]\n",
    "row.plot.bar()"
   ]
  },
  {
   "cell_type": "code",
   "execution_count": 77,
   "id": "4d9522c9-d13b-412a-8a98-c9567917ce2e",
   "metadata": {},
   "outputs": [
    {
     "data": {
      "text/plain": [
       "<Axes: >"
      ]
     },
     "execution_count": 77,
     "metadata": {},
     "output_type": "execute_result"
    },
    {
     "data": {
      "image/png": "[encoded data removed]",
      "text/plain": [
       "<Figure size 200x200 with 1 Axes>"
      ]
     },
     "metadata": {},
     "output_type": "display_data"
    }
   ],
   "source": [
    "row = df1.loc[\"Okonkwo\"]\n",
    "row.plot.bar()"
   ]
  },
  {
   "cell_type": "code",
   "execution_count": 78,
   "id": "4237c408-88e3-46ff-b5d6-7527e997e618",
   "metadata": {},
   "outputs": [
    {
     "data": {
      "text/plain": [
       "<Axes: >"
      ]
     },
     "execution_count": 78,
     "metadata": {},
     "output_type": "execute_result"
    },
    {
     "data": {
      "image/png": "[encoded data removed]",
      "text/plain": [
       "<Figure size 200x200 with 1 Axes>"
      ]
     },
     "metadata": {},
     "output_type": "display_data"
    }
   ],
   "source": [
    "row = df1.loc[\"Donlon\"]\n",
    "row.plot.bar()"
   ]
  },
  {
   "cell_type": "code",
   "execution_count": 79,
   "id": "b3c022a1-80fb-4027-9a37-917c4072390a",
   "metadata": {
    "scrolled": true
   },
   "outputs": [
    {
     "data": {
      "text/plain": [
       "<Axes: >"
      ]
     },
     "execution_count": 79,
     "metadata": {},
     "output_type": "execute_result"
    },
    {
     "data": {
      "image/png": "[encoded data removed]",
      "text/plain": [
       "<Figure size 200x200 with 1 Axes>"
      ]
     },
     "metadata": {},
     "output_type": "display_data"
    }
   ],
   "source": [
    "row = df1.loc[\"Ellis\"]\n",
    "row.plot.bar()"
   ]
  },
  {
   "cell_type": "code",
   "execution_count": 80,
   "id": "eb4b2dd0-f215-4ce7-ab4b-6c2db9ca6c1d",
   "metadata": {},
   "outputs": [
    {
     "data": {
      "text/plain": [
       "<Axes: >"
      ]
     },
     "execution_count": 80,
     "metadata": {},
     "output_type": "execute_result"
    },
    {
     "data": {
      "image/png": "[encoded data removed]",
      "text/plain": [
       "<Figure size 200x200 with 1 Axes>"
      ]
     },
     "metadata": {},
     "output_type": "display_data"
    }
   ],
   "source": [
    "row = df1.loc[\"Wilkins\"]\n",
    "row.plot.bar()"
   ]
  },
  {
   "cell_type": "code",
   "execution_count": 81,
   "id": "6d9f8242-6aa3-4579-87ad-00a38fc6894b",
   "metadata": {},
   "outputs": [
    {
     "data": {
      "text/plain": [
       "<Axes: >"
      ]
     },
     "execution_count": 81,
     "metadata": {},
     "output_type": "execute_result"
    },
    {
     "data": {
      "image/png": "[encoded data removed]",
      "text/plain": [
       "<Figure size 200x200 with 1 Axes>"
      ]
     },
     "metadata": {},
     "output_type": "display_data"
    }
   ],
   "source": [
    "row = df1.loc[\"Todd\"]\n",
    "row.plot.bar()"
   ]
  },
  {
   "cell_type": "code",
   "execution_count": 82,
   "id": "52691653-082a-4ad1-9f65-a9d2c7f009cc",
   "metadata": {},
   "outputs": [
    {
     "data": {
      "text/plain": [
       "<Axes: >"
      ]
     },
     "execution_count": 82,
     "metadata": {},
     "output_type": "execute_result"
    },
    {
     "data": {
      "image/png": "[encoded data removed]",
      "text/plain": [
       "<Figure size 200x200 with 1 Axes>"
      ]
     },
     "metadata": {},
     "output_type": "display_data"
    }
   ],
   "source": [
    "row = df1.loc[\"Woods\"]\n",
    "row.plot.bar()"
   ]
  }
 ],
 "metadata": {
  "kernelspec": {
   "display_name": "Python 3 (ipykernel)",
   "language": "python",
   "name": "python3"
  },
  "language_info": {
   "codemirror_mode": {
    "name": "ipython",
    "version": 3
   },
   "file_extension": ".py",
   "mimetype": "text/x-python",
   "name": "python",
   "nbconvert_exporter": "python",
   "pygments_lexer": "ipython3",
   "version": "3.12.1"
  }
 },
 "nbformat": 4,
 "nbformat_minor": 5
}
